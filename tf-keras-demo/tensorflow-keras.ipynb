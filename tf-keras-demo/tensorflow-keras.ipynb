{
 "cells": [
  {
   "cell_type": "code",
   "execution_count": 1,
   "id": "230d7fee",
   "metadata": {},
   "outputs": [],
   "source": [
    "import tensorflow as tf\n",
    "import numpy as np\n",
    "import matplotlib.pyplot as plt\n",
    "import pandas as pd\n",
    "import seaborn as sns"
   ]
  },
  {
   "cell_type": "code",
   "execution_count": 2,
   "id": "b386a958",
   "metadata": {},
   "outputs": [
    {
     "data": {
      "text/plain": [
       "'2.7.0'"
      ]
     },
     "execution_count": 2,
     "metadata": {},
     "output_type": "execute_result"
    }
   ],
   "source": [
    "tf.__version__"
   ]
  },
  {
   "cell_type": "code",
   "execution_count": 3,
   "id": "3248086b",
   "metadata": {},
   "outputs": [],
   "source": [
    "mnist=tf.keras.datasets.mnist"
   ]
  },
  {
   "cell_type": "code",
   "execution_count": 4,
   "id": "9e21cdcc",
   "metadata": {},
   "outputs": [],
   "source": [
    "(X_train_full,y_train_full),(X_test,y_test)=mnist.load_data()"
   ]
  },
  {
   "cell_type": "code",
   "execution_count": 5,
   "id": "d6715602",
   "metadata": {},
   "outputs": [
    {
     "data": {
      "text/plain": [
       "(60000, 28, 28)"
      ]
     },
     "execution_count": 5,
     "metadata": {},
     "output_type": "execute_result"
    }
   ],
   "source": [
    "X_train_full.shape"
   ]
  },
  {
   "cell_type": "code",
   "execution_count": 6,
   "id": "7211c09f",
   "metadata": {},
   "outputs": [
    {
     "data": {
      "text/plain": [
       "array([[  0,   0,   0,   0,   0,   0,   0,   0,   0,   0,   0,   0,   0,\n",
       "          0,   0,   0,   0,   0,   0,   0,   0,   0,   0,   0,   0,   0,\n",
       "          0,   0],\n",
       "       [  0,   0,   0,   0,   0,   0,   0,   0,   0,   0,   0,   0,   0,\n",
       "          0,   0,   0,   0,   0,   0,   0,   0,   0,   0,   0,   0,   0,\n",
       "          0,   0],\n",
       "       [  0,   0,   0,   0,   0,   0,   0,   0,   0,   0,   0,   0,   0,\n",
       "          0,   0,   0,   0,   0,   0,   0,   0,   0,   0,   0,   0,   0,\n",
       "          0,   0],\n",
       "       [  0,   0,   0,   0,   0,   0,   0,   0,   0,   0,   0,   0,   0,\n",
       "          0,   0,   0,   0,   0,   0,   0,   0,   0,   0,   0,   0,   0,\n",
       "          0,   0],\n",
       "       [  0,   0,   0,   0,   0,   0,   0,   0,   0,   0,   0,   0,   0,\n",
       "          0,   0,   0,   0,   0,   0,   0,   0,   0,   0,   0,   0,   0,\n",
       "          0,   0],\n",
       "       [  0,   0,   0,   0,   0,   0,   0,   0,   0,   0,   0,   0,   3,\n",
       "         18,  18,  18, 126, 136, 175,  26, 166, 255, 247, 127,   0,   0,\n",
       "          0,   0],\n",
       "       [  0,   0,   0,   0,   0,   0,   0,   0,  30,  36,  94, 154, 170,\n",
       "        253, 253, 253, 253, 253, 225, 172, 253, 242, 195,  64,   0,   0,\n",
       "          0,   0],\n",
       "       [  0,   0,   0,   0,   0,   0,   0,  49, 238, 253, 253, 253, 253,\n",
       "        253, 253, 253, 253, 251,  93,  82,  82,  56,  39,   0,   0,   0,\n",
       "          0,   0],\n",
       "       [  0,   0,   0,   0,   0,   0,   0,  18, 219, 253, 253, 253, 253,\n",
       "        253, 198, 182, 247, 241,   0,   0,   0,   0,   0,   0,   0,   0,\n",
       "          0,   0],\n",
       "       [  0,   0,   0,   0,   0,   0,   0,   0,  80, 156, 107, 253, 253,\n",
       "        205,  11,   0,  43, 154,   0,   0,   0,   0,   0,   0,   0,   0,\n",
       "          0,   0],\n",
       "       [  0,   0,   0,   0,   0,   0,   0,   0,   0,  14,   1, 154, 253,\n",
       "         90,   0,   0,   0,   0,   0,   0,   0,   0,   0,   0,   0,   0,\n",
       "          0,   0],\n",
       "       [  0,   0,   0,   0,   0,   0,   0,   0,   0,   0,   0, 139, 253,\n",
       "        190,   2,   0,   0,   0,   0,   0,   0,   0,   0,   0,   0,   0,\n",
       "          0,   0],\n",
       "       [  0,   0,   0,   0,   0,   0,   0,   0,   0,   0,   0,  11, 190,\n",
       "        253,  70,   0,   0,   0,   0,   0,   0,   0,   0,   0,   0,   0,\n",
       "          0,   0],\n",
       "       [  0,   0,   0,   0,   0,   0,   0,   0,   0,   0,   0,   0,  35,\n",
       "        241, 225, 160, 108,   1,   0,   0,   0,   0,   0,   0,   0,   0,\n",
       "          0,   0],\n",
       "       [  0,   0,   0,   0,   0,   0,   0,   0,   0,   0,   0,   0,   0,\n",
       "         81, 240, 253, 253, 119,  25,   0,   0,   0,   0,   0,   0,   0,\n",
       "          0,   0],\n",
       "       [  0,   0,   0,   0,   0,   0,   0,   0,   0,   0,   0,   0,   0,\n",
       "          0,  45, 186, 253, 253, 150,  27,   0,   0,   0,   0,   0,   0,\n",
       "          0,   0],\n",
       "       [  0,   0,   0,   0,   0,   0,   0,   0,   0,   0,   0,   0,   0,\n",
       "          0,   0,  16,  93, 252, 253, 187,   0,   0,   0,   0,   0,   0,\n",
       "          0,   0],\n",
       "       [  0,   0,   0,   0,   0,   0,   0,   0,   0,   0,   0,   0,   0,\n",
       "          0,   0,   0,   0, 249, 253, 249,  64,   0,   0,   0,   0,   0,\n",
       "          0,   0],\n",
       "       [  0,   0,   0,   0,   0,   0,   0,   0,   0,   0,   0,   0,   0,\n",
       "          0,  46, 130, 183, 253, 253, 207,   2,   0,   0,   0,   0,   0,\n",
       "          0,   0],\n",
       "       [  0,   0,   0,   0,   0,   0,   0,   0,   0,   0,   0,   0,  39,\n",
       "        148, 229, 253, 253, 253, 250, 182,   0,   0,   0,   0,   0,   0,\n",
       "          0,   0],\n",
       "       [  0,   0,   0,   0,   0,   0,   0,   0,   0,   0,  24, 114, 221,\n",
       "        253, 253, 253, 253, 201,  78,   0,   0,   0,   0,   0,   0,   0,\n",
       "          0,   0],\n",
       "       [  0,   0,   0,   0,   0,   0,   0,   0,  23,  66, 213, 253, 253,\n",
       "        253, 253, 198,  81,   2,   0,   0,   0,   0,   0,   0,   0,   0,\n",
       "          0,   0],\n",
       "       [  0,   0,   0,   0,   0,   0,  18, 171, 219, 253, 253, 253, 253,\n",
       "        195,  80,   9,   0,   0,   0,   0,   0,   0,   0,   0,   0,   0,\n",
       "          0,   0],\n",
       "       [  0,   0,   0,   0,  55, 172, 226, 253, 253, 253, 253, 244, 133,\n",
       "         11,   0,   0,   0,   0,   0,   0,   0,   0,   0,   0,   0,   0,\n",
       "          0,   0],\n",
       "       [  0,   0,   0,   0, 136, 253, 253, 253, 212, 135, 132,  16,   0,\n",
       "          0,   0,   0,   0,   0,   0,   0,   0,   0,   0,   0,   0,   0,\n",
       "          0,   0],\n",
       "       [  0,   0,   0,   0,   0,   0,   0,   0,   0,   0,   0,   0,   0,\n",
       "          0,   0,   0,   0,   0,   0,   0,   0,   0,   0,   0,   0,   0,\n",
       "          0,   0],\n",
       "       [  0,   0,   0,   0,   0,   0,   0,   0,   0,   0,   0,   0,   0,\n",
       "          0,   0,   0,   0,   0,   0,   0,   0,   0,   0,   0,   0,   0,\n",
       "          0,   0],\n",
       "       [  0,   0,   0,   0,   0,   0,   0,   0,   0,   0,   0,   0,   0,\n",
       "          0,   0,   0,   0,   0,   0,   0,   0,   0,   0,   0,   0,   0,\n",
       "          0,   0]], dtype=uint8)"
      ]
     },
     "execution_count": 6,
     "metadata": {},
     "output_type": "execute_result"
    }
   ],
   "source": [
    "img=X_train_full[0]\n",
    "img"
   ]
  },
  {
   "cell_type": "code",
   "execution_count": 7,
   "id": "8e0ea54d",
   "metadata": {},
   "outputs": [
    {
     "data": {
      "text/plain": [
       "(28, 28)"
      ]
     },
     "execution_count": 7,
     "metadata": {},
     "output_type": "execute_result"
    }
   ],
   "source": [
    "img.shape"
   ]
  },
  {
   "cell_type": "code",
   "execution_count": 8,
   "id": "19859ca0",
   "metadata": {},
   "outputs": [
    {
     "data": {
      "text/plain": [
       "<matplotlib.image.AxesImage at 0x2bd2b0cb710>"
      ]
     },
     "execution_count": 8,
     "metadata": {},
     "output_type": "execute_result"
    },
    {
     "data": {
      "image/png": "[encoded data removed]",
      "text/plain": [
       "<Figure size 432x288 with 1 Axes>"
      ]
     },
     "metadata": {
      "needs_background": "light"
     },
     "output_type": "display_data"
    }
   ],
   "source": [
    "plt.imshow(img, cmap=\"binary\")"
   ]
  },
  {
   "cell_type": "code",
   "execution_count": 9,
   "id": "4c32c015",
   "metadata": {},
   "outputs": [
    {
     "data": {
      "text/plain": [
       "<AxesSubplot:>"
      ]
     },
     "execution_count": 9,
     "metadata": {},
     "output_type": "execute_result"
    },
    {
     "data": {
      "image/png": "[encoded data removed]",
      "text/plain": [
       "<Figure size 1440x1440 with 2 Axes>"
      ]
     },
     "metadata": {
      "needs_background": "light"
     },
     "output_type": "display_data"
    }
   ],
   "source": [
    "plt.figure(figsize=(20,20))\n",
    "sns.heatmap(img/255, annot=True, cmap=\"binary\")"
   ]
  },
  {
   "cell_type": "code",
   "execution_count": 11,
   "id": "44d4abe0",
   "metadata": {},
   "outputs": [],
   "source": [
    "X_valid,X_train=X_train_full[:5000]/255,X_train_full[5000:]/255\n",
    "y_valid,y_train=y_train_full[:5000],y_train_full[5000:]\n",
    "X_test=X_test/255"
   ]
  },
  {
   "cell_type": "code",
   "execution_count": 12,
   "id": "acab05ad",
   "metadata": {},
   "outputs": [],
   "source": [
    "CLASSES=10\n",
    "LAYERS=[\n",
    "    tf.keras.layers.Flatten(input_shape=(28,28),name=\"InputLayer\"),\n",
    "    tf.keras.layers.Dense(300, activation=\"relu\", name=\"HiddenLayer1\"),\n",
    "    tf.keras.layers.Dense(100, activation=\"relu\",name=\"HiddenLayer2\"),\n",
    "    tf.keras.layers.Dense(CLASSES,activation=\"softmax\", name=\"OutputLayer\"),\n",
    "]"
   ]
  },
  {
   "cell_type": "code",
   "execution_count": 13,
   "id": "86326fb7",
   "metadata": {},
   "outputs": [],
   "source": [
    "model_clf=tf.keras.models.Sequential(LAYERS)"
   ]
  },
  {
   "cell_type": "code",
   "execution_count": 14,
   "id": "56595246",
   "metadata": {},
   "outputs": [
    {
     "data": {
      "text/plain": [
       "[<keras.layers.core.flatten.Flatten at 0x2bd2d2e45c0>,\n",
       " <keras.layers.core.dense.Dense at 0x2bd2e1e6f28>,\n",
       " <keras.layers.core.dense.Dense at 0x2bd2e1e29b0>,\n",
       " <keras.layers.core.dense.Dense at 0x2bd2e1e2c88>]"
      ]
     },
     "execution_count": 14,
     "metadata": {},
     "output_type": "execute_result"
    }
   ],
   "source": [
    "model_clf.layers"
   ]
  },
  {
   "cell_type": "code",
   "execution_count": 16,
   "id": "fe41a744",
   "metadata": {},
   "outputs": [
    {
     "data": {
      "text/plain": [
       "'HiddenLayer1'"
      ]
     },
     "execution_count": 16,
     "metadata": {},
     "output_type": "execute_result"
    }
   ],
   "source": [
    "model_clf.layers[1].name"
   ]
  },
  {
   "cell_type": "code",
   "execution_count": 17,
   "id": "512d632d",
   "metadata": {},
   "outputs": [
    {
     "name": "stdout",
     "output_type": "stream",
     "text": [
      "Model: \"sequential\"\n",
      "_________________________________________________________________\n",
      " Layer (type)                Output Shape              Param #   \n",
      "=================================================================\n",
      " InputLayer (Flatten)        (None, 784)               0         \n",
      "                                                                 \n",
      " HiddenLayer1 (Dense)        (None, 300)               235500    \n",
      "                                                                 \n",
      " HiddenLayer2 (Dense)        (None, 100)               30100     \n",
      "                                                                 \n",
      " OutputLayer (Dense)         (None, 10)                1010      \n",
      "                                                                 \n",
      "=================================================================\n",
      "Total params: 266,610\n",
      "Trainable params: 266,610\n",
      "Non-trainable params: 0\n",
      "_________________________________________________________________\n"
     ]
    }
   ],
   "source": [
    "model_clf.summary()"
   ]
  },
  {
   "cell_type": "code",
   "execution_count": 18,
   "id": "481707b5",
   "metadata": {},
   "outputs": [],
   "source": [
    "weights,bias=model_clf.layers[1].get_weights()"
   ]
  },
  {
   "cell_type": "code",
   "execution_count": 19,
   "id": "003a19b3",
   "metadata": {},
   "outputs": [
    {
     "data": {
      "text/plain": [
       "array([[-0.01992596,  0.00098637, -0.04215364, ...,  0.00912011,\n",
       "         0.00092398,  0.06335992],\n",
       "       [-0.06549349, -0.01316636,  0.02100265, ...,  0.00485389,\n",
       "        -0.00422101,  0.06948745],\n",
       "       [ 0.03464065, -0.03198754,  0.03990166, ...,  0.02941523,\n",
       "         0.0621189 , -0.05605009],\n",
       "       ...,\n",
       "       [-0.04947827,  0.02730223,  0.06298938, ..., -0.02247689,\n",
       "        -0.06014844, -0.06278336],\n",
       "       [-0.03154908,  0.03824359, -0.06303666, ...,  0.03175356,\n",
       "        -0.07141377, -0.06474686],\n",
       "       [ 0.06191593, -0.03376918,  0.00577724, ...,  0.03418459,\n",
       "        -0.03998882, -0.04426551]], dtype=float32)"
      ]
     },
     "execution_count": 19,
     "metadata": {},
     "output_type": "execute_result"
    }
   ],
   "source": [
    "weights"
   ]
  },
  {
   "cell_type": "code",
   "execution_count": 20,
   "id": "8ff373e9",
   "metadata": {},
   "outputs": [
    {
     "data": {
      "text/plain": [
       "array([0., 0., 0., 0., 0., 0., 0., 0., 0., 0., 0., 0., 0., 0., 0., 0., 0.,\n",
       "       0., 0., 0., 0., 0., 0., 0., 0., 0., 0., 0., 0., 0., 0., 0., 0., 0.,\n",
       "       0., 0., 0., 0., 0., 0., 0., 0., 0., 0., 0., 0., 0., 0., 0., 0., 0.,\n",
       "       0., 0., 0., 0., 0., 0., 0., 0., 0., 0., 0., 0., 0., 0., 0., 0., 0.,\n",
       "       0., 0., 0., 0., 0., 0., 0., 0., 0., 0., 0., 0., 0., 0., 0., 0., 0.,\n",
       "       0., 0., 0., 0., 0., 0., 0., 0., 0., 0., 0., 0., 0., 0., 0., 0., 0.,\n",
       "       0., 0., 0., 0., 0., 0., 0., 0., 0., 0., 0., 0., 0., 0., 0., 0., 0.,\n",
       "       0., 0., 0., 0., 0., 0., 0., 0., 0., 0., 0., 0., 0., 0., 0., 0., 0.,\n",
       "       0., 0., 0., 0., 0., 0., 0., 0., 0., 0., 0., 0., 0., 0., 0., 0., 0.,\n",
       "       0., 0., 0., 0., 0., 0., 0., 0., 0., 0., 0., 0., 0., 0., 0., 0., 0.,\n",
       "       0., 0., 0., 0., 0., 0., 0., 0., 0., 0., 0., 0., 0., 0., 0., 0., 0.,\n",
       "       0., 0., 0., 0., 0., 0., 0., 0., 0., 0., 0., 0., 0., 0., 0., 0., 0.,\n",
       "       0., 0., 0., 0., 0., 0., 0., 0., 0., 0., 0., 0., 0., 0., 0., 0., 0.,\n",
       "       0., 0., 0., 0., 0., 0., 0., 0., 0., 0., 0., 0., 0., 0., 0., 0., 0.,\n",
       "       0., 0., 0., 0., 0., 0., 0., 0., 0., 0., 0., 0., 0., 0., 0., 0., 0.,\n",
       "       0., 0., 0., 0., 0., 0., 0., 0., 0., 0., 0., 0., 0., 0., 0., 0., 0.,\n",
       "       0., 0., 0., 0., 0., 0., 0., 0., 0., 0., 0., 0., 0., 0., 0., 0., 0.,\n",
       "       0., 0., 0., 0., 0., 0., 0., 0., 0., 0., 0.], dtype=float32)"
      ]
     },
     "execution_count": 20,
     "metadata": {},
     "output_type": "execute_result"
    }
   ],
   "source": [
    "bias"
   ]
  },
  {
   "cell_type": "code",
   "execution_count": 21,
   "id": "2e7100f7",
   "metadata": {},
   "outputs": [
    {
     "data": {
      "text/plain": [
       "(784, 300)"
      ]
     },
     "execution_count": 21,
     "metadata": {},
     "output_type": "execute_result"
    }
   ],
   "source": [
    "weights.shape"
   ]
  },
  {
   "cell_type": "code",
   "execution_count": 22,
   "id": "737348c4",
   "metadata": {},
   "outputs": [
    {
     "data": {
      "text/plain": [
       "(300,)"
      ]
     },
     "execution_count": 22,
     "metadata": {},
     "output_type": "execute_result"
    }
   ],
   "source": [
    "bias.shape"
   ]
  },
  {
   "cell_type": "code",
   "execution_count": 23,
   "id": "6b93f4dc",
   "metadata": {},
   "outputs": [],
   "source": [
    "LOSS_FUNCTION = \"sparse_categorical_crossentropy\"\n",
    "OPTIMIZER = \"SGD\"\n",
    "METRICS = [\"accuracy\"]\n",
    "\n",
    "model_clf.compile(loss=LOSS_FUNCTION, \n",
    "                  optimizer=OPTIMIZER,\n",
    "                  metrics=METRICS)"
   ]
  },
  {
   "cell_type": "code",
   "execution_count": 24,
   "id": "e73a0fa4",
   "metadata": {},
   "outputs": [
    {
     "name": "stdout",
     "output_type": "stream",
     "text": [
      "Epoch 1/30\n",
      "3438/3438 [==============================] - 8s 2ms/step - loss: 0.4661 - accuracy: 0.8731 - val_loss: 0.2532 - val_accuracy: 0.9286\n",
      "Epoch 2/30\n",
      "3438/3438 [==============================] - 7s 2ms/step - loss: 0.2238 - accuracy: 0.9345 - val_loss: 0.1815 - val_accuracy: 0.9500\n",
      "Epoch 3/30\n",
      "3438/3438 [==============================] - 7s 2ms/step - loss: 0.1695 - accuracy: 0.9516 - val_loss: 0.1441 - val_accuracy: 0.9598\n",
      "Epoch 4/30\n",
      "3438/3438 [==============================] - 7s 2ms/step - loss: 0.1353 - accuracy: 0.9607 - val_loss: 0.1285 - val_accuracy: 0.9656\n",
      "Epoch 5/30\n",
      "3438/3438 [==============================] - 7s 2ms/step - loss: 0.1125 - accuracy: 0.9681 - val_loss: 0.1096 - val_accuracy: 0.9702\n",
      "Epoch 6/30\n",
      "3438/3438 [==============================] - 7s 2ms/step - loss: 0.0954 - accuracy: 0.9727 - val_loss: 0.1016 - val_accuracy: 0.9722\n",
      "Epoch 7/30\n",
      "3438/3438 [==============================] - 7s 2ms/step - loss: 0.0819 - accuracy: 0.9771 - val_loss: 0.0905 - val_accuracy: 0.9742\n",
      "Epoch 8/30\n",
      "3438/3438 [==============================] - 7s 2ms/step - loss: 0.0715 - accuracy: 0.9802 - val_loss: 0.0847 - val_accuracy: 0.9756\n",
      "Epoch 9/30\n",
      "3438/3438 [==============================] - 7s 2ms/step - loss: 0.0628 - accuracy: 0.9822 - val_loss: 0.0802 - val_accuracy: 0.9788\n",
      "Epoch 10/30\n",
      "3438/3438 [==============================] - 7s 2ms/step - loss: 0.0551 - accuracy: 0.9846 - val_loss: 0.0799 - val_accuracy: 0.9768\n",
      "Epoch 11/30\n",
      "3438/3438 [==============================] - 7s 2ms/step - loss: 0.0488 - accuracy: 0.9867 - val_loss: 0.0771 - val_accuracy: 0.9786\n",
      "Epoch 12/30\n",
      "3438/3438 [==============================] - 7s 2ms/step - loss: 0.0436 - accuracy: 0.9882 - val_loss: 0.0787 - val_accuracy: 0.9758\n",
      "Epoch 13/30\n",
      "3438/3438 [==============================] - 9s 3ms/step - loss: 0.0388 - accuracy: 0.9895 - val_loss: 0.0741 - val_accuracy: 0.9780\n",
      "Epoch 14/30\n",
      "3438/3438 [==============================] - 8s 2ms/step - loss: 0.0346 - accuracy: 0.9909 - val_loss: 0.0758 - val_accuracy: 0.9780\n",
      "Epoch 15/30\n",
      "3438/3438 [==============================] - 7s 2ms/step - loss: 0.0307 - accuracy: 0.9924 - val_loss: 0.0690 - val_accuracy: 0.9820\n",
      "Epoch 16/30\n",
      "3438/3438 [==============================] - 11s 3ms/step - loss: 0.0278 - accuracy: 0.9931 - val_loss: 0.0673 - val_accuracy: 0.9824\n",
      "Epoch 17/30\n",
      "3438/3438 [==============================] - 10s 3ms/step - loss: 0.0247 - accuracy: 0.9944 - val_loss: 0.0669 - val_accuracy: 0.9808\n",
      "Epoch 18/30\n",
      "3438/3438 [==============================] - 9s 3ms/step - loss: 0.0224 - accuracy: 0.9951 - val_loss: 0.0695 - val_accuracy: 0.9802\n",
      "Epoch 19/30\n",
      "3438/3438 [==============================] - 11s 3ms/step - loss: 0.0199 - accuracy: 0.9958 - val_loss: 0.0698 - val_accuracy: 0.9814\n",
      "Epoch 20/30\n",
      "3438/3438 [==============================] - 8s 2ms/step - loss: 0.0179 - accuracy: 0.9965 - val_loss: 0.0691 - val_accuracy: 0.9814\n",
      "Epoch 21/30\n",
      "3438/3438 [==============================] - 7s 2ms/step - loss: 0.0161 - accuracy: 0.9973 - val_loss: 0.0664 - val_accuracy: 0.9818\n",
      "Epoch 22/30\n",
      "3438/3438 [==============================] - 7s 2ms/step - loss: 0.0145 - accuracy: 0.9979 - val_loss: 0.0691 - val_accuracy: 0.9812\n",
      "Epoch 23/30\n",
      "3438/3438 [==============================] - 8s 2ms/step - loss: 0.0133 - accuracy: 0.9980 - val_loss: 0.0666 - val_accuracy: 0.9816\n",
      "Epoch 24/30\n",
      "3438/3438 [==============================] - 7s 2ms/step - loss: 0.0118 - accuracy: 0.9984 - val_loss: 0.0715 - val_accuracy: 0.9826\n",
      "Epoch 25/30\n",
      "3438/3438 [==============================] - 7s 2ms/step - loss: 0.0108 - accuracy: 0.9987 - val_loss: 0.0705 - val_accuracy: 0.9804\n",
      "Epoch 26/30\n",
      "3438/3438 [==============================] - 8s 2ms/step - loss: 0.0098 - accuracy: 0.9989 - val_loss: 0.0675 - val_accuracy: 0.9830\n",
      "Epoch 27/30\n",
      "3438/3438 [==============================] - 7s 2ms/step - loss: 0.0090 - accuracy: 0.9990 - val_loss: 0.0672 - val_accuracy: 0.9822\n",
      "Epoch 28/30\n",
      "3438/3438 [==============================] - 7s 2ms/step - loss: 0.0082 - accuracy: 0.9992 - val_loss: 0.0677 - val_accuracy: 0.9826\n",
      "Epoch 29/30\n",
      "3438/3438 [==============================] - 7s 2ms/step - loss: 0.0076 - accuracy: 0.9994 - val_loss: 0.0690 - val_accuracy: 0.9814\n",
      "Epoch 30/30\n",
      "3438/3438 [==============================] - 7s 2ms/step - loss: 0.0069 - accuracy: 0.9995 - val_loss: 0.0691 - val_accuracy: 0.9820\n"
     ]
    }
   ],
   "source": [
    "EPOCHS = 30\n",
    "VALIDATION = (X_valid, y_valid)\n",
    "\n",
    "history = model_clf.fit(X_train, y_train, \n",
    "              epochs=EPOCHS, batch_size=16,\n",
    "              validation_data=VALIDATION)"
   ]
  },
  {
   "cell_type": "code",
   "execution_count": 25,
   "id": "9b8c4011",
   "metadata": {},
   "outputs": [
    {
     "data": {
      "text/plain": [
       "dict"
      ]
     },
     "execution_count": 25,
     "metadata": {},
     "output_type": "execute_result"
    }
   ],
   "source": [
    "type(history.history)"
   ]
  },
  {
   "cell_type": "code",
   "execution_count": 26,
   "id": "95acac59",
   "metadata": {},
   "outputs": [
    {
     "data": {
      "text/plain": [
       "dict_keys(['loss', 'accuracy', 'val_loss', 'val_accuracy'])"
      ]
     },
     "execution_count": 26,
     "metadata": {},
     "output_type": "execute_result"
    }
   ],
   "source": [
    "history.history.keys()"
   ]
  },
  {
   "cell_type": "code",
   "execution_count": 28,
   "id": "a1eb6055",
   "metadata": {},
   "outputs": [
    {
     "data": {
      "text/html": [
       "<div>\n",
       "<style scoped>\n",
       "    .dataframe tbody tr th:only-of-type {\n",
       "        vertical-align: middle;\n",
       "    }\n",
       "\n",
       "    .dataframe tbody tr th {\n",
       "        vertical-align: top;\n",
       "    }\n",
       "\n",
       "    .dataframe thead th {\n",
       "        text-align: right;\n",
       "    }\n",
       "</style>\n",
       "<table border=\"1\" class=\"dataframe\">\n",
       "  <thead>\n",
       "    <tr style=\"text-align: right;\">\n",
       "      <th></th>\n",
       "      <th>loss</th>\n",
       "      <th>accuracy</th>\n",
       "      <th>val_loss</th>\n",
       "      <th>val_accuracy</th>\n",
       "    </tr>\n",
       "  </thead>\n",
       "  <tbody>\n",
       "    <tr>\n",
       "      <th>0</th>\n",
       "      <td>0.466092</td>\n",
       "      <td>0.873127</td>\n",
       "      <td>0.253164</td>\n",
       "      <td>0.9286</td>\n",
       "    </tr>\n",
       "    <tr>\n",
       "      <th>1</th>\n",
       "      <td>0.223834</td>\n",
       "      <td>0.934509</td>\n",
       "      <td>0.181548</td>\n",
       "      <td>0.9500</td>\n",
       "    </tr>\n",
       "    <tr>\n",
       "      <th>2</th>\n",
       "      <td>0.169488</td>\n",
       "      <td>0.951636</td>\n",
       "      <td>0.144064</td>\n",
       "      <td>0.9598</td>\n",
       "    </tr>\n",
       "    <tr>\n",
       "      <th>3</th>\n",
       "      <td>0.135335</td>\n",
       "      <td>0.960727</td>\n",
       "      <td>0.128465</td>\n",
       "      <td>0.9656</td>\n",
       "    </tr>\n",
       "    <tr>\n",
       "      <th>4</th>\n",
       "      <td>0.112495</td>\n",
       "      <td>0.968145</td>\n",
       "      <td>0.109563</td>\n",
       "      <td>0.9702</td>\n",
       "    </tr>\n",
       "    <tr>\n",
       "      <th>5</th>\n",
       "      <td>0.095416</td>\n",
       "      <td>0.972655</td>\n",
       "      <td>0.101611</td>\n",
       "      <td>0.9722</td>\n",
       "    </tr>\n",
       "    <tr>\n",
       "      <th>6</th>\n",
       "      <td>0.081896</td>\n",
       "      <td>0.977091</td>\n",
       "      <td>0.090496</td>\n",
       "      <td>0.9742</td>\n",
       "    </tr>\n",
       "    <tr>\n",
       "      <th>7</th>\n",
       "      <td>0.071464</td>\n",
       "      <td>0.980218</td>\n",
       "      <td>0.084737</td>\n",
       "      <td>0.9756</td>\n",
       "    </tr>\n",
       "    <tr>\n",
       "      <th>8</th>\n",
       "      <td>0.062805</td>\n",
       "      <td>0.982218</td>\n",
       "      <td>0.080231</td>\n",
       "      <td>0.9788</td>\n",
       "    </tr>\n",
       "    <tr>\n",
       "      <th>9</th>\n",
       "      <td>0.055085</td>\n",
       "      <td>0.984582</td>\n",
       "      <td>0.079865</td>\n",
       "      <td>0.9768</td>\n",
       "    </tr>\n",
       "    <tr>\n",
       "      <th>10</th>\n",
       "      <td>0.048750</td>\n",
       "      <td>0.986673</td>\n",
       "      <td>0.077067</td>\n",
       "      <td>0.9786</td>\n",
       "    </tr>\n",
       "    <tr>\n",
       "      <th>11</th>\n",
       "      <td>0.043561</td>\n",
       "      <td>0.988236</td>\n",
       "      <td>0.078725</td>\n",
       "      <td>0.9758</td>\n",
       "    </tr>\n",
       "    <tr>\n",
       "      <th>12</th>\n",
       "      <td>0.038848</td>\n",
       "      <td>0.989527</td>\n",
       "      <td>0.074107</td>\n",
       "      <td>0.9780</td>\n",
       "    </tr>\n",
       "    <tr>\n",
       "      <th>13</th>\n",
       "      <td>0.034599</td>\n",
       "      <td>0.990891</td>\n",
       "      <td>0.075763</td>\n",
       "      <td>0.9780</td>\n",
       "    </tr>\n",
       "    <tr>\n",
       "      <th>14</th>\n",
       "      <td>0.030699</td>\n",
       "      <td>0.992418</td>\n",
       "      <td>0.069019</td>\n",
       "      <td>0.9820</td>\n",
       "    </tr>\n",
       "    <tr>\n",
       "      <th>15</th>\n",
       "      <td>0.027820</td>\n",
       "      <td>0.993145</td>\n",
       "      <td>0.067273</td>\n",
       "      <td>0.9824</td>\n",
       "    </tr>\n",
       "    <tr>\n",
       "      <th>16</th>\n",
       "      <td>0.024661</td>\n",
       "      <td>0.994418</td>\n",
       "      <td>0.066908</td>\n",
       "      <td>0.9808</td>\n",
       "    </tr>\n",
       "    <tr>\n",
       "      <th>17</th>\n",
       "      <td>0.022368</td>\n",
       "      <td>0.995073</td>\n",
       "      <td>0.069466</td>\n",
       "      <td>0.9802</td>\n",
       "    </tr>\n",
       "    <tr>\n",
       "      <th>18</th>\n",
       "      <td>0.019911</td>\n",
       "      <td>0.995800</td>\n",
       "      <td>0.069844</td>\n",
       "      <td>0.9814</td>\n",
       "    </tr>\n",
       "    <tr>\n",
       "      <th>19</th>\n",
       "      <td>0.017930</td>\n",
       "      <td>0.996473</td>\n",
       "      <td>0.069129</td>\n",
       "      <td>0.9814</td>\n",
       "    </tr>\n",
       "    <tr>\n",
       "      <th>20</th>\n",
       "      <td>0.016066</td>\n",
       "      <td>0.997273</td>\n",
       "      <td>0.066356</td>\n",
       "      <td>0.9818</td>\n",
       "    </tr>\n",
       "    <tr>\n",
       "      <th>21</th>\n",
       "      <td>0.014494</td>\n",
       "      <td>0.997873</td>\n",
       "      <td>0.069121</td>\n",
       "      <td>0.9812</td>\n",
       "    </tr>\n",
       "    <tr>\n",
       "      <th>22</th>\n",
       "      <td>0.013263</td>\n",
       "      <td>0.997964</td>\n",
       "      <td>0.066634</td>\n",
       "      <td>0.9816</td>\n",
       "    </tr>\n",
       "    <tr>\n",
       "      <th>23</th>\n",
       "      <td>0.011849</td>\n",
       "      <td>0.998382</td>\n",
       "      <td>0.071491</td>\n",
       "      <td>0.9826</td>\n",
       "    </tr>\n",
       "    <tr>\n",
       "      <th>24</th>\n",
       "      <td>0.010818</td>\n",
       "      <td>0.998673</td>\n",
       "      <td>0.070471</td>\n",
       "      <td>0.9804</td>\n",
       "    </tr>\n",
       "    <tr>\n",
       "      <th>25</th>\n",
       "      <td>0.009826</td>\n",
       "      <td>0.998909</td>\n",
       "      <td>0.067542</td>\n",
       "      <td>0.9830</td>\n",
       "    </tr>\n",
       "    <tr>\n",
       "      <th>26</th>\n",
       "      <td>0.009047</td>\n",
       "      <td>0.999036</td>\n",
       "      <td>0.067189</td>\n",
       "      <td>0.9822</td>\n",
       "    </tr>\n",
       "    <tr>\n",
       "      <th>27</th>\n",
       "      <td>0.008168</td>\n",
       "      <td>0.999182</td>\n",
       "      <td>0.067677</td>\n",
       "      <td>0.9826</td>\n",
       "    </tr>\n",
       "    <tr>\n",
       "      <th>28</th>\n",
       "      <td>0.007560</td>\n",
       "      <td>0.999400</td>\n",
       "      <td>0.069013</td>\n",
       "      <td>0.9814</td>\n",
       "    </tr>\n",
       "    <tr>\n",
       "      <th>29</th>\n",
       "      <td>0.006901</td>\n",
       "      <td>0.999455</td>\n",
       "      <td>0.069125</td>\n",
       "      <td>0.9820</td>\n",
       "    </tr>\n",
       "  </tbody>\n",
       "</table>\n",
       "</div>"
      ],
      "text/plain": [
       "        loss  accuracy  val_loss  val_accuracy\n",
       "0   0.466092  0.873127  0.253164        0.9286\n",
       "1   0.223834  0.934509  0.181548        0.9500\n",
       "2   0.169488  0.951636  0.144064        0.9598\n",
       "3   0.135335  0.960727  0.128465        0.9656\n",
       "4   0.112495  0.968145  0.109563        0.9702\n",
       "5   0.095416  0.972655  0.101611        0.9722\n",
       "6   0.081896  0.977091  0.090496        0.9742\n",
       "7   0.071464  0.980218  0.084737        0.9756\n",
       "8   0.062805  0.982218  0.080231        0.9788\n",
       "9   0.055085  0.984582  0.079865        0.9768\n",
       "10  0.048750  0.986673  0.077067        0.9786\n",
       "11  0.043561  0.988236  0.078725        0.9758\n",
       "12  0.038848  0.989527  0.074107        0.9780\n",
       "13  0.034599  0.990891  0.075763        0.9780\n",
       "14  0.030699  0.992418  0.069019        0.9820\n",
       "15  0.027820  0.993145  0.067273        0.9824\n",
       "16  0.024661  0.994418  0.066908        0.9808\n",
       "17  0.022368  0.995073  0.069466        0.9802\n",
       "18  0.019911  0.995800  0.069844        0.9814\n",
       "19  0.017930  0.996473  0.069129        0.9814\n",
       "20  0.016066  0.997273  0.066356        0.9818\n",
       "21  0.014494  0.997873  0.069121        0.9812\n",
       "22  0.013263  0.997964  0.066634        0.9816\n",
       "23  0.011849  0.998382  0.071491        0.9826\n",
       "24  0.010818  0.998673  0.070471        0.9804\n",
       "25  0.009826  0.998909  0.067542        0.9830\n",
       "26  0.009047  0.999036  0.067189        0.9822\n",
       "27  0.008168  0.999182  0.067677        0.9826\n",
       "28  0.007560  0.999400  0.069013        0.9814\n",
       "29  0.006901  0.999455  0.069125        0.9820"
      ]
     },
     "execution_count": 28,
     "metadata": {},
     "output_type": "execute_result"
    }
   ],
   "source": [
    "pd.DataFrame(history.history)"
   ]
  },
  {
   "cell_type": "code",
   "execution_count": 30,
   "id": "954d5552",
   "metadata": {},
   "outputs": [
    {
     "data": {
      "image/png": "[encoded data removed]",
      "text/plain": [
       "<Figure size 720x504 with 1 Axes>"
      ]
     },
     "metadata": {
      "needs_background": "light"
     },
     "output_type": "display_data"
    }
   ],
   "source": [
    "pd.DataFrame(history.history).plot(figsize=(10,7))\n",
    "plt.grid(True)\n",
    "plt.show()"
   ]
  },
  {
   "cell_type": "code",
   "execution_count": 31,
   "id": "93b9d75f",
   "metadata": {},
   "outputs": [
    {
     "name": "stdout",
     "output_type": "stream",
     "text": [
      "313/313 [==============================] - 1s 2ms/step - loss: 0.0676 - accuracy: 0.9787\n"
     ]
    },
    {
     "data": {
      "text/plain": [
       "[0.06762557476758957, 0.9786999821662903]"
      ]
     },
     "execution_count": 31,
     "metadata": {},
     "output_type": "execute_result"
    }
   ],
   "source": [
    "model_clf.evaluate(X_test,y_test)"
   ]
  },
  {
   "cell_type": "code",
   "execution_count": 32,
   "id": "54066697",
   "metadata": {},
   "outputs": [],
   "source": [
    "model_clf.save(\"test.h5\")"
   ]
  },
  {
   "cell_type": "code",
   "execution_count": 33,
   "id": "7f93a190",
   "metadata": {},
   "outputs": [
    {
     "data": {
      "text/plain": [
       "array([[0., 0., 0., 0., 0., 0., 0., 1., 0., 0.],\n",
       "       [0., 0., 1., 0., 0., 0., 0., 0., 0., 0.],\n",
       "       [0., 1., 0., 0., 0., 0., 0., 0., 0., 0.]], dtype=float32)"
      ]
     },
     "execution_count": 33,
     "metadata": {},
     "output_type": "execute_result"
    }
   ],
   "source": [
    "X_new=X_test[:3]\n",
    "y_prob=model_clf.predict(X_new)\n",
    "y_prob.round(3)"
   ]
  },
  {
   "cell_type": "code",
   "execution_count": 34,
   "id": "5f96d937",
   "metadata": {},
   "outputs": [
    {
     "data": {
      "text/plain": [
       "<matplotlib.image.AxesImage at 0x2bd33ab0a20>"
      ]
     },
     "execution_count": 34,
     "metadata": {},
     "output_type": "execute_result"
    },
    {
     "data": {
      "image/png": "[encoded data removed]",
      "text/plain": [
       "<Figure size 432x288 with 1 Axes>"
      ]
     },
     "metadata": {
      "needs_background": "light"
     },
     "output_type": "display_data"
    }
   ],
   "source": [
    "plt.imshow(X_new[0],cmap=\"binary\")"
   ]
  },
  {
   "cell_type": "code",
   "execution_count": 38,
   "id": "25ed9bc8",
   "metadata": {},
   "outputs": [
    {
     "data": {
      "text/plain": [
       "array([7, 2, 1], dtype=int64)"
      ]
     },
     "execution_count": 38,
     "metadata": {},
     "output_type": "execute_result"
    }
   ],
   "source": [
    "Y_pred=np.argmax(y_prob,axis=-1)\n",
    "\n",
    "Y_pred"
   ]
  },
  {
   "cell_type": "code",
   "execution_count": 39,
   "id": "c1fa35fe",
   "metadata": {},
   "outputs": [
    {
     "data": {
      "image/png": "[encoded data removed]",
      "text/plain": [
       "<Figure size 432x288 with 1 Axes>"
      ]
     },
     "metadata": {
      "needs_background": "light"
     },
     "output_type": "display_data"
    },
    {
     "name": "stdout",
     "output_type": "stream",
     "text": [
      "------------------------------------------------------------\n"
     ]
    },
    {
     "data": {
      "image/png": "[encoded data removed]",
      "text/plain": [
       "<Figure size 432x288 with 1 Axes>"
      ]
     },
     "metadata": {
      "needs_background": "light"
     },
     "output_type": "display_data"
    },
    {
     "name": "stdout",
     "output_type": "stream",
     "text": [
      "------------------------------------------------------------\n"
     ]
    },
    {
     "data": {
      "image/png": "[encoded data removed]",
      "text/plain": [
       "<Figure size 432x288 with 1 Axes>"
      ]
     },
     "metadata": {
      "needs_background": "light"
     },
     "output_type": "display_data"
    },
    {
     "name": "stdout",
     "output_type": "stream",
     "text": [
      "------------------------------------------------------------\n"
     ]
    }
   ],
   "source": [
    "for img_array, pred, actual in zip(X_new, Y_pred, y_test[:3]):\n",
    "  plt.imshow(img_array, cmap=\"binary\")\n",
    "  plt.title(f\"predicted: {pred}, Actual: {actual}\")\n",
    "  plt.axis(\"off\")\n",
    "  plt.show()\n",
    "  print(\"--\"*30)"
   ]
  },
  {
   "cell_type": "code",
   "execution_count": null,
   "id": "a0358219",
   "metadata": {},
   "outputs": [],
   "source": []
  }
 ],
 "metadata": {
  "kernelspec": {
   "display_name": "Python 3 (ipykernel)",
   "language": "python",
   "name": "python3"
  },
  "language_info": {
   "codemirror_mode": {
    "name": "ipython",
    "version": 3
   },
   "file_extension": ".py",
   "mimetype": "text/x-python",
   "name": "python",
   "nbconvert_exporter": "python",
   "pygments_lexer": "ipython3",
   "version": "3.7.0"
  }
 },
 "nbformat": 4,
 "nbformat_minor": 5
}
