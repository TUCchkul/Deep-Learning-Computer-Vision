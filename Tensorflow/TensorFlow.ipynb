{
 "cells": [
  {
   "cell_type": "markdown",
   "id": "d4e6da41",
   "metadata": {},
   "source": [
    "# What is TensorFlow?\n",
    "\n",
    "![](https://upload.wikimedia.org/wikipedia/commons/a/a4/TensorFlowLogo.png)\n",
    "\n",
    "\n",
    "TensorFlow is an open source software library released in 2015 by Google to make it easier for developers to design, build, and train deep learning models. TensorFlow originated as an internal library that Google developers used to build models in-house, and we expect additional functionality to be added to the open source version as they are tested and vetted in the internal flavor. Although TensorFlow is only one of several options available to developers, we choose to use it here because of its thoughtful design and ease of use. We’ll briefly compare TensorFlow to alternatives in the next section.\n",
    "\n",
    "At a high level, TensorFlow is a Python library that allows users to express arbitrary computation as a graph of data flows. Nodes in this graph represent mathematical operations, whereas edges represent data that is communicated from one node to another. Data in TensorFlow are represented as tensors, which are multidimensional arrays. Although this framework for thinking about computation is valuable in many different fields, TensorFlow is primarily used for deep learning in practice and research.\n"
   ]
  },
  {
   "cell_type": "markdown",
   "id": "150e2878",
   "metadata": {},
   "source": [
    "## Install\n",
    "As usual, we'll be using Conda to install TensorFlow. You might already have a TensorFlow environment, but check to make sure you have all the necessary packages.\n",
    "\n",
    "### OS X or Linux\n",
    "Run the following commands to setup your environment:\n",
    "\n",
    "    conda create -n tensorflow python=3.5\n",
    "    source activate tensorflow\n",
    "    conda install pandas matplotlib jupyter notebook scipy scikit-learn\n",
    "    pip install tensorflow\n",
    "\n",
    "### Windows\n",
    "And installing on Windows. In your console or Anaconda shell,\n",
    "\n",
    "    conda create -n tensorflow python=3.5\n",
    "    activate tensorflow\n",
    "    conda install pandas matplotlib jupyter notebook scipy scikit-learn\n",
    "    pip install tensorflow\n",
    "\n",
    "### Hello, world!\n",
    "Try running the following code in your Python console to make sure you have TensorFlow properly installed. The console will print \"Hello, world!\" if TensorFlow is installed. Don’t worry about understanding what it does. You’ll learn about it in the next section."
   ]
  },
  {
   "cell_type": "code",
   "execution_count": 1,
   "id": "4a529e2b",
   "metadata": {},
   "outputs": [],
   "source": [
    "import tensorflow as tf"
   ]
  },
  {
   "cell_type": "code",
   "execution_count": 4,
   "id": "cd89c534",
   "metadata": {},
   "outputs": [
    {
     "data": {
      "text/plain": [
       "<tf.Tensor: shape=(), dtype=string, numpy=b'Hello World'>"
      ]
     },
     "execution_count": 4,
     "metadata": {},
     "output_type": "execute_result"
    }
   ],
   "source": [
    "hello_constant=tf.constant('Hello World')\n",
    "hello_constant"
   ]
  },
  {
   "cell_type": "code",
   "execution_count": 2,
   "id": "f9f1e2f8",
   "metadata": {},
   "outputs": [
    {
     "name": "stdout",
     "output_type": "stream",
     "text": [
      "Tensorflow version:2.7.0\n",
      "Keras version: 2.7.0\n"
     ]
    }
   ],
   "source": [
    "# Version Check\n",
    "import tensorflow as tf\n",
    "#create tensorflow object called tensor\n",
    "print(\"Tensorflow version:{}\".format(tf.__version__))\n",
    "print(\"Keras version: {}\".format(tf.keras.__version__))"
   ]
  },
  {
   "cell_type": "markdown",
   "id": "9abdda9d",
   "metadata": {},
   "source": [
    "### GPU/CPU Check"
   ]
  },
  {
   "cell_type": "code",
   "execution_count": 8,
   "id": "d763a79d",
   "metadata": {},
   "outputs": [
    {
     "name": "stdout",
     "output_type": "stream",
     "text": [
      "WARNING:tensorflow:From C:\\Users\\kulki\\AppData\\Local\\Temp\\ipykernel_16172\\3700108689.py:2: is_gpu_available (from tensorflow.python.framework.test_util) is deprecated and will be removed in a future version.\n",
      "Instructions for updating:\n",
      "Use `tf.config.list_physical_devices('GPU')` instead.\n",
      "CPU\n"
     ]
    }
   ],
   "source": [
    "variable=tf.Variable([3,3])\n",
    "if tf.test.is_gpu_available():\n",
    "    print('GPU')\n",
    "else:\n",
    "    print('CPU')"
   ]
  },
  {
   "cell_type": "markdown",
   "id": "09418b5d",
   "metadata": {},
   "source": [
    "### Tensor Constant"
   ]
  },
  {
   "cell_type": "code",
   "execution_count": 11,
   "id": "896c8d7f",
   "metadata": {},
   "outputs": [
    {
     "data": {
      "text/plain": [
       "tensorflow.python.framework.ops.EagerTensor"
      ]
     },
     "execution_count": 11,
     "metadata": {},
     "output_type": "execute_result"
    }
   ],
   "source": [
    "tensor=tf.constant(42)\n",
    "tensor\n",
    "type(tensor)"
   ]
  },
  {
   "cell_type": "code",
   "execution_count": 10,
   "id": "05da5f55",
   "metadata": {},
   "outputs": [
    {
     "data": {
      "text/plain": [
       "42"
      ]
     },
     "execution_count": 10,
     "metadata": {},
     "output_type": "execute_result"
    }
   ],
   "source": [
    "tensor.numpy()"
   ]
  },
  {
   "cell_type": "code",
   "execution_count": 12,
   "id": "8ff864f4",
   "metadata": {},
   "outputs": [
    {
     "data": {
      "text/plain": [
       "tf.int32"
      ]
     },
     "execution_count": 12,
     "metadata": {},
     "output_type": "execute_result"
    }
   ],
   "source": [
    "tensor.dtype"
   ]
  },
  {
   "cell_type": "code",
   "execution_count": 13,
   "id": "0c57329f",
   "metadata": {},
   "outputs": [
    {
     "data": {
      "text/plain": [
       "<tf.Tensor: shape=(), dtype=int64, numpy=1>"
      ]
     },
     "execution_count": 13,
     "metadata": {},
     "output_type": "execute_result"
    }
   ],
   "source": [
    "tensor1=tf.constant(1, dtype=tf.int64)\n",
    "tensor1"
   ]
  },
  {
   "cell_type": "code",
   "execution_count": 15,
   "id": "4049345e",
   "metadata": {},
   "outputs": [
    {
     "name": "stdout",
     "output_type": "stream",
     "text": [
      "tf.Tensor(\n",
      "[[4 2]\n",
      " [9 5]], shape=(2, 2), dtype=int32)\n"
     ]
    }
   ],
   "source": [
    "tensor_x=tf.constant([[4,2],[9,5]])\n",
    "print(tensor_x)"
   ]
  },
  {
   "cell_type": "code",
   "execution_count": 16,
   "id": "e6f7498f",
   "metadata": {},
   "outputs": [
    {
     "data": {
      "text/plain": [
       "array([[4, 2],\n",
       "       [9, 5]])"
      ]
     },
     "execution_count": 16,
     "metadata": {},
     "output_type": "execute_result"
    }
   ],
   "source": [
    "tensor_x.numpy()"
   ]
  },
  {
   "cell_type": "code",
   "execution_count": 17,
   "id": "7c8c9fa5",
   "metadata": {},
   "outputs": [
    {
     "name": "stdout",
     "output_type": "stream",
     "text": [
      "shape:\n",
      "(2, 2)\n"
     ]
    }
   ],
   "source": [
    "print(f\"shape:\\n{tensor_x.shape}\")"
   ]
  },
  {
   "cell_type": "code",
   "execution_count": 18,
   "id": "550c0f2b",
   "metadata": {},
   "outputs": [
    {
     "name": "stdout",
     "output_type": "stream",
     "text": [
      "Data-Type: <dtype: 'int32'>\n"
     ]
    }
   ],
   "source": [
    "print(\"Data-Type:\",tensor_x.dtype)"
   ]
  },
  {
   "cell_type": "markdown",
   "id": "1ec4fdff",
   "metadata": {},
   "source": [
    "### Commonly used method is to generate constant tf.ones and tf.zeros like of numpy np.ones and np.zeros"
   ]
  },
  {
   "cell_type": "code",
   "execution_count": 19,
   "id": "c7cdba23",
   "metadata": {},
   "outputs": [
    {
     "name": "stdout",
     "output_type": "stream",
     "text": [
      "tf.Tensor(\n",
      "[[1. 1. 1.]\n",
      " [1. 1. 1.]], shape=(2, 3), dtype=float32)\n"
     ]
    }
   ],
   "source": [
    "print(tf.ones(shape=(2,3)))"
   ]
  },
  {
   "cell_type": "code",
   "execution_count": 20,
   "id": "e18d36d2",
   "metadata": {},
   "outputs": [
    {
     "name": "stdout",
     "output_type": "stream",
     "text": [
      "tf.Tensor(\n",
      "[[0. 0.]\n",
      " [0. 0.]\n",
      " [0. 0.]], shape=(3, 2), dtype=float32)\n"
     ]
    }
   ],
   "source": [
    "print(tf.zeros(shape=(3,2)))"
   ]
  },
  {
   "cell_type": "code",
   "execution_count": 21,
   "id": "b2496032",
   "metadata": {},
   "outputs": [
    {
     "name": "stdout",
     "output_type": "stream",
     "text": [
      "tf.Tensor(\n",
      "[[ 4  6  8]\n",
      " [ 6  9 11]], shape=(2, 3), dtype=int32)\n"
     ]
    }
   ],
   "source": [
    "const1=tf.constant([[3,4,5],[2,4,5]]);\n",
    "const2=tf.constant([[1,2,3],[4,5,6]]);\n",
    "result=tf.add(const1,const2)\n",
    "print(result)"
   ]
  },
  {
   "cell_type": "markdown",
   "id": "2aa56813",
   "metadata": {},
   "source": [
    "### Random Constant"
   ]
  },
  {
   "cell_type": "code",
   "execution_count": 28,
   "id": "41bb3650",
   "metadata": {},
   "outputs": [
    {
     "data": {
      "text/plain": [
       "<tf.Tensor: shape=(2, 2), dtype=float32, numpy=\n",
       "array([[ 1.9712412 , -1.2009478 ],\n",
       "       [ 0.8507134 ,  0.00264949]], dtype=float32)>"
      ]
     },
     "execution_count": 28,
     "metadata": {},
     "output_type": "execute_result"
    }
   ],
   "source": [
    "tf.random.normal(shape=(2,2), mean=0,stddev=1.0)"
   ]
  },
  {
   "cell_type": "code",
   "execution_count": 26,
   "id": "71242a25",
   "metadata": {},
   "outputs": [
    {
     "data": {
      "text/plain": [
       "<tf.Tensor: shape=(2, 2), dtype=int32, numpy=\n",
       "array([[5, 4],\n",
       "       [4, 2]])>"
      ]
     },
     "execution_count": 26,
     "metadata": {},
     "output_type": "execute_result"
    }
   ],
   "source": [
    "tf.random.uniform(shape=(2,2), minval=0,maxval=10, dtype=tf.int32)"
   ]
  },
  {
   "cell_type": "markdown",
   "id": "4a9b39ea",
   "metadata": {},
   "source": [
    "### Variable"
   ]
  },
  {
   "cell_type": "markdown",
   "id": "ae7697f3",
   "metadata": {},
   "source": [
    "\n",
    "A variable is a special tensor that is used to store variable values and need to be initialized with some values"
   ]
  },
  {
   "cell_type": "markdown",
   "id": "605e3ad7",
   "metadata": {},
   "source": [
    "### Declaring a variable"
   ]
  },
  {
   "cell_type": "code",
   "execution_count": 29,
   "id": "40fc7778",
   "metadata": {},
   "outputs": [
    {
     "data": {
      "text/plain": [
       "(12,\n",
       " <tf.Variable 'Variable:0' shape=() dtype=int32, numpy=42>,\n",
       " <tf.Variable 'Variable:0' shape=(4, 3) dtype=float32, numpy=\n",
       " array([[ 0.,  1.,  2.],\n",
       "        [ 3.,  4.,  5.],\n",
       "        [ 6.,  7.,  8.],\n",
       "        [ 9., 10., 11.]], dtype=float32)>)"
      ]
     },
     "execution_count": 29,
     "metadata": {},
     "output_type": "execute_result"
    }
   ],
   "source": [
    "var=12#python variable\n",
    "var1=tf.Variable(42)\n",
    "var2=tf.Variable([[0.,1.,2.],[3.,4.,5.],[6.,7.,8.],[9.,10.,11.]])# ranl 3 sensor\n",
    "var, var1,var2"
   ]
  },
  {
   "cell_type": "markdown",
   "id": "6794d82f",
   "metadata": {},
   "source": [
    "### Data type can be explicitely specified"
   ]
  },
  {
   "cell_type": "code",
   "execution_count": 30,
   "id": "37b3d3e2",
   "metadata": {},
   "outputs": [
    {
     "data": {
      "text/plain": [
       "<tf.Variable 'Variable:0' shape=() dtype=float64, numpy=89.0>"
      ]
     },
     "execution_count": 30,
     "metadata": {},
     "output_type": "execute_result"
    }
   ],
   "source": [
    "float_64=tf.Variable(89, dtype=tf.float64)\n",
    "float_64"
   ]
  },
  {
   "cell_type": "markdown",
   "id": "48a63b03",
   "metadata": {},
   "source": [
    "### to reassign a variable, use var.assign()"
   ]
  },
  {
   "cell_type": "code",
   "execution_count": 35,
   "id": "714df14b",
   "metadata": {},
   "outputs": [],
   "source": [
    "tensor_2=tf.constant(1)\n",
    "#tensor_2.assign(2)"
   ]
  },
  {
   "cell_type": "code",
   "execution_count": 32,
   "id": "5bb05415",
   "metadata": {},
   "outputs": [
    {
     "data": {
      "text/plain": [
       "<tf.Variable 'Variable:0' shape=() dtype=float32, numpy=89.0>"
      ]
     },
     "execution_count": 32,
     "metadata": {},
     "output_type": "execute_result"
    }
   ],
   "source": [
    "var_reassign=tf.Variable(89.)\n",
    "var_reassign"
   ]
  },
  {
   "cell_type": "code",
   "execution_count": 33,
   "id": "1699398d",
   "metadata": {},
   "outputs": [
    {
     "data": {
      "text/plain": [
       "<tf.Variable 'UnreadVariable' shape=() dtype=float32, numpy=54.0>"
      ]
     },
     "execution_count": 33,
     "metadata": {},
     "output_type": "execute_result"
    }
   ],
   "source": [
    "var_reassign.assign(54)"
   ]
  },
  {
   "cell_type": "code",
   "execution_count": 38,
   "id": "c6d572ab",
   "metadata": {},
   "outputs": [
    {
     "data": {
      "text/plain": [
       "<tf.Tensor: shape=(2, 2), dtype=float32, numpy=\n",
       "array([[ 1.0911499,  1.2925048],\n",
       "       [-0.9404922,  2.1465063]], dtype=float32)>"
      ]
     },
     "execution_count": 38,
     "metadata": {},
     "output_type": "execute_result"
    }
   ],
   "source": [
    "new_value=tf.random.normal(shape=(2,2))\n",
    "a=tf.Variable(new_value)\n",
    "a.assign(new_value)\n",
    "for i in range(2):\n",
    "    for j in range(2):\n",
    "        assert a[i,j]==new_value[i,j]\n",
    "new_value"
   ]
  },
  {
   "cell_type": "code",
   "execution_count": 40,
   "id": "053eab38",
   "metadata": {},
   "outputs": [],
   "source": [
    "added_value=tf.random.normal(shape=(2,2))\n",
    "a.assign_add(added_value)\n",
    "for i in range(2):\n",
    "    for j in range(2):\n",
    "        assert a[i,j]==new_value[i,j]+added_value[i,j]"
   ]
  },
  {
   "cell_type": "code",
   "execution_count": 41,
   "id": "7db84bc1",
   "metadata": {},
   "outputs": [
    {
     "data": {
      "text/plain": [
       "<tf.Tensor: shape=(2, 2), dtype=float32, numpy=\n",
       "array([[ 0.5196845 ,  1.1475024 ],\n",
       "       [-0.48373485,  0.20953108]], dtype=float32)>"
      ]
     },
     "execution_count": 41,
     "metadata": {},
     "output_type": "execute_result"
    }
   ],
   "source": [
    "added_value"
   ]
  },
  {
   "cell_type": "markdown",
   "id": "4e5d3c13",
   "metadata": {},
   "source": [
    "### Shaping a tensor"
   ]
  },
  {
   "cell_type": "code",
   "execution_count": 59,
   "id": "18872b43",
   "metadata": {},
   "outputs": [
    {
     "name": "stdout",
     "output_type": "stream",
     "text": [
      "(2, 2, 3)\n",
      "(1, 4, 3)\n"
     ]
    }
   ],
   "source": [
    "tensor=tf.Variable([[[10.,11.,12.],[13.,14.,15.]],[[16.,17.,18.],[19.,20.,21.]]])\n",
    "print(tensor.shape)\n",
    "tensor_01=tf.Variable([[[10.,11.,12.],[13.,14.,15.],[16.,17.,18.],[19.,20.,21.]]])\n",
    "print(tensor_01.shape)"
   ]
  },
  {
   "cell_type": "code",
   "execution_count": 56,
   "id": "e9b1ab61",
   "metadata": {},
   "outputs": [
    {
     "data": {
      "text/plain": [
       "<tf.Tensor: shape=(2, 6), dtype=float32, numpy=\n",
       "array([[10., 11., 12., 13., 14., 15.],\n",
       "       [16., 17., 18., 19., 20., 21.]], dtype=float32)>"
      ]
     },
     "execution_count": 56,
     "metadata": {},
     "output_type": "execute_result"
    }
   ],
   "source": [
    "tensor1=tf.reshape(tensor,[2,6])\n",
    "tensor1"
   ]
  },
  {
   "cell_type": "code",
   "execution_count": 57,
   "id": "8dbfb102",
   "metadata": {},
   "outputs": [
    {
     "data": {
      "text/plain": [
       "<tf.Tensor: shape=(1, 12), dtype=float32, numpy=\n",
       "array([[10., 11., 12., 13., 14., 15., 16., 17., 18., 19., 20., 21.]],\n",
       "      dtype=float32)>"
      ]
     },
     "execution_count": 57,
     "metadata": {},
     "output_type": "execute_result"
    }
   ],
   "source": [
    "tensor2=tf.reshape(tensor,[1,12])\n",
    "tensor2"
   ]
  },
  {
   "cell_type": "markdown",
   "id": "df92951a",
   "metadata": {},
   "source": [
    "### Rank of Tensor"
   ]
  },
  {
   "cell_type": "markdown",
   "id": "b2a44022",
   "metadata": {},
   "source": [
    "The rank of tensor is defiend as the number of dimensions, which is the number of indices that are required to specify any particular element of that tensor"
   ]
  },
  {
   "cell_type": "code",
   "execution_count": 62,
   "id": "0d23ba4b",
   "metadata": {},
   "outputs": [
    {
     "data": {
      "text/plain": [
       "<tf.Variable 'Variable:0' shape=(2, 2, 3) dtype=float32, numpy=\n",
       "array([[[10., 11., 12.],\n",
       "        [13., 14., 15.]],\n",
       "\n",
       "       [[16., 17., 18.],\n",
       "        [19., 20., 21.]]], dtype=float32)>"
      ]
     },
     "execution_count": 62,
     "metadata": {},
     "output_type": "execute_result"
    }
   ],
   "source": [
    "tf.rank(tensor)\n",
    "tensor"
   ]
  },
  {
   "cell_type": "markdown",
   "id": "10f7bca4",
   "metadata": {},
   "source": [
    "### Specifying an element of a tensor"
   ]
  },
  {
   "cell_type": "code",
   "execution_count": 58,
   "id": "6aa5dea9",
   "metadata": {},
   "outputs": [
    {
     "data": {
      "text/plain": [
       "<tf.Variable 'Variable:0' shape=(2, 2, 3) dtype=float32, numpy=\n",
       "array([[[10., 11., 12.],\n",
       "        [13., 14., 15.]],\n",
       "\n",
       "       [[16., 17., 18.],\n",
       "        [19., 20., 21.]]], dtype=float32)>"
      ]
     },
     "execution_count": 58,
     "metadata": {},
     "output_type": "execute_result"
    }
   ],
   "source": [
    "tensor"
   ]
  },
  {
   "cell_type": "code",
   "execution_count": 65,
   "id": "3e8c4216",
   "metadata": {},
   "outputs": [
    {
     "data": {
      "text/plain": [
       "<tf.Tensor: shape=(), dtype=float32, numpy=18.0>"
      ]
     },
     "execution_count": 65,
     "metadata": {},
     "output_type": "execute_result"
    }
   ],
   "source": [
    "tensor3=tensor[1,0,2]\n",
    "tensor3\n"
   ]
  },
  {
   "cell_type": "code",
   "execution_count": 66,
   "id": "6ef452ee",
   "metadata": {},
   "outputs": [
    {
     "data": {
      "text/plain": [
       "<tf.Variable 'Variable:0' shape=(2, 2, 3) dtype=float32, numpy=\n",
       "array([[[10., 11., 12.],\n",
       "        [13., 14., 15.]],\n",
       "\n",
       "       [[16., 17., 18.],\n",
       "        [19., 20., 21.]]], dtype=float32)>"
      ]
     },
     "execution_count": 66,
     "metadata": {},
     "output_type": "execute_result"
    }
   ],
   "source": [
    "tensor"
   ]
  },
  {
   "cell_type": "code",
   "execution_count": 67,
   "id": "245ab5d1",
   "metadata": {},
   "outputs": [
    {
     "data": {
      "text/plain": [
       "<tf.Tensor: shape=(3,), dtype=float32, numpy=array([13., 14., 15.], dtype=float32)>"
      ]
     },
     "execution_count": 67,
     "metadata": {},
     "output_type": "execute_result"
    }
   ],
   "source": [
    "tensor[0][1]"
   ]
  },
  {
   "cell_type": "code",
   "execution_count": 68,
   "id": "094937de",
   "metadata": {},
   "outputs": [
    {
     "data": {
      "text/plain": [
       "<tf.Tensor: shape=(3,), dtype=float32, numpy=array([19., 20., 21.], dtype=float32)>"
      ]
     },
     "execution_count": 68,
     "metadata": {},
     "output_type": "execute_result"
    }
   ],
   "source": [
    "tensor[1][1]"
   ]
  },
  {
   "cell_type": "code",
   "execution_count": 69,
   "id": "caac7aa8",
   "metadata": {},
   "outputs": [
    {
     "data": {
      "text/plain": [
       "<tf.Tensor: shape=(), dtype=float32, numpy=20.0>"
      ]
     },
     "execution_count": 69,
     "metadata": {},
     "output_type": "execute_result"
    }
   ],
   "source": [
    "tensor[1][1][1]"
   ]
  },
  {
   "cell_type": "markdown",
   "id": "2fd16edd",
   "metadata": {},
   "source": [
    "### Casting a tensor to a Numpy Variable"
   ]
  },
  {
   "cell_type": "code",
   "execution_count": 70,
   "id": "89d3f34c",
   "metadata": {},
   "outputs": [
    {
     "name": "stdout",
     "output_type": "stream",
     "text": [
      "[[[10. 11. 12.]\n",
      "  [13. 14. 15.]]\n",
      "\n",
      " [[16. 17. 18.]\n",
      "  [19. 20. 21.]]]\n"
     ]
    }
   ],
   "source": [
    "print(tensor.numpy())"
   ]
  },
  {
   "cell_type": "code",
   "execution_count": 75,
   "id": "8112e0da",
   "metadata": {},
   "outputs": [
    {
     "name": "stdout",
     "output_type": "stream",
     "text": [
      "18.0\n"
     ]
    }
   ],
   "source": [
    "import numpy\n",
    "print(tensor[1,0,2].numpy())"
   ]
  },
  {
   "cell_type": "markdown",
   "id": "7523a49f",
   "metadata": {},
   "source": [
    "### Finding the size or length of a tensor"
   ]
  },
  {
   "cell_type": "code",
   "execution_count": 76,
   "id": "dbff202b",
   "metadata": {},
   "outputs": [
    {
     "data": {
      "text/plain": [
       "12"
      ]
     },
     "execution_count": 76,
     "metadata": {},
     "output_type": "execute_result"
    }
   ],
   "source": [
    "tensor_size=tf.size(input=tensor).numpy()\n",
    "tensor_size"
   ]
  },
  {
   "cell_type": "code",
   "execution_count": 77,
   "id": "8c35294f",
   "metadata": {},
   "outputs": [
    {
     "data": {
      "text/plain": [
       "<tf.Tensor: shape=(), dtype=float32, numpy=18.0>"
      ]
     },
     "execution_count": 77,
     "metadata": {},
     "output_type": "execute_result"
    }
   ],
   "source": [
    "tensor3"
   ]
  },
  {
   "cell_type": "code",
   "execution_count": 78,
   "id": "9cd1bbc0",
   "metadata": {},
   "outputs": [
    {
     "data": {
      "text/plain": [
       "tf.float32"
      ]
     },
     "execution_count": 78,
     "metadata": {},
     "output_type": "execute_result"
    }
   ],
   "source": [
    "tensor3.dtype"
   ]
  },
  {
   "cell_type": "markdown",
   "id": "2f80969f",
   "metadata": {},
   "source": [
    "### Tensorflow Mathmatical Operation"
   ]
  },
  {
   "cell_type": "code",
   "execution_count": 80,
   "id": "64ac7edc",
   "metadata": {},
   "outputs": [
    {
     "name": "stdout",
     "output_type": "stream",
     "text": [
      "tf.Tensor(\n",
      "[[ 0.34579328 -0.46292663]\n",
      " [-0.12398    -1.0976231 ]], shape=(2, 2), dtype=float32)\n",
      "tf.Tensor(\n",
      "[[ 1.7245681  -0.06326357]\n",
      " [-0.52673    -0.28832227]], shape=(2, 2), dtype=float32)\n",
      "tf.Tensor(\n",
      "[[ 2.0703614  -0.52619016]\n",
      " [-0.65071    -1.3859453 ]], shape=(2, 2), dtype=float32)\n",
      "tf.Tensor(\n",
      "[[4.286396  0.2768761]\n",
      " [0.4234235 1.9208444]], shape=(2, 2), dtype=float32)\n",
      "tf.Tensor(\n",
      "[[7.9276876 0.5908517]\n",
      " [0.5216753 0.2500873]], shape=(2, 2), dtype=float32)\n"
     ]
    }
   ],
   "source": [
    "a=tf.random.normal(shape=(2,2))\n",
    "b=tf.random.normal(shape=(2,2))\n",
    "c=a+b\n",
    "d=tf.square(c)\n",
    "e=tf.exp(c)\n",
    "print(a)\n",
    "print(b)\n",
    "print(c)\n",
    "print(d)\n",
    "print(e)"
   ]
  },
  {
   "cell_type": "markdown",
   "id": "556f7b0e",
   "metadata": {},
   "source": [
    "### Perform element wise operation"
   ]
  },
  {
   "cell_type": "code",
   "execution_count": 81,
   "id": "da558748",
   "metadata": {},
   "outputs": [
    {
     "data": {
      "text/plain": [
       "<tf.Variable 'Variable:0' shape=(2, 2, 3) dtype=float32, numpy=\n",
       "array([[[10., 11., 12.],\n",
       "        [13., 14., 15.]],\n",
       "\n",
       "       [[16., 17., 18.],\n",
       "        [19., 20., 21.]]], dtype=float32)>"
      ]
     },
     "execution_count": 81,
     "metadata": {},
     "output_type": "execute_result"
    }
   ],
   "source": [
    "tensor"
   ]
  },
  {
   "cell_type": "code",
   "execution_count": 82,
   "id": "8173646d",
   "metadata": {},
   "outputs": [
    {
     "data": {
      "text/plain": [
       "<tf.Tensor: shape=(2, 2, 3), dtype=float32, numpy=\n",
       "array([[[100., 121., 144.],\n",
       "        [169., 196., 225.]],\n",
       "\n",
       "       [[256., 289., 324.],\n",
       "        [361., 400., 441.]]], dtype=float32)>"
      ]
     },
     "execution_count": 82,
     "metadata": {},
     "output_type": "execute_result"
    }
   ],
   "source": [
    "tensor*tensor"
   ]
  },
  {
   "cell_type": "markdown",
   "id": "71774a32",
   "metadata": {},
   "source": [
    "## Broadcasting operation"
   ]
  },
  {
   "cell_type": "markdown",
   "id": "2918d932",
   "metadata": {},
   "source": [
    "Element-wise tensor operations support broadcasting in the same way that Numpy arrays do\n",
    "\n",
    "\n",
    "\n",
    "The simplest example is multiplication of a tensor by a scalar value"
   ]
  },
  {
   "cell_type": "code",
   "execution_count": 83,
   "id": "cd66a555",
   "metadata": {},
   "outputs": [
    {
     "data": {
      "text/plain": [
       "<tf.Tensor: shape=(2, 2, 3), dtype=float32, numpy=\n",
       "array([[[40., 44., 48.],\n",
       "        [52., 56., 60.]],\n",
       "\n",
       "       [[64., 68., 72.],\n",
       "        [76., 80., 84.]]], dtype=float32)>"
      ]
     },
     "execution_count": 83,
     "metadata": {},
     "output_type": "execute_result"
    }
   ],
   "source": [
    "tensor4=tensor*4\n",
    "tensor4"
   ]
  },
  {
   "cell_type": "markdown",
   "id": "e9b698ee",
   "metadata": {},
   "source": [
    "### Transpose Matrix Multiplication"
   ]
  },
  {
   "cell_type": "code",
   "execution_count": 87,
   "id": "d6df864e",
   "metadata": {},
   "outputs": [
    {
     "data": {
      "text/plain": [
       "<tf.Tensor: shape=(1, 1), dtype=int32, numpy=array([[64]])>"
      ]
     },
     "execution_count": 87,
     "metadata": {},
     "output_type": "execute_result"
    }
   ],
   "source": [
    "matricx_u=tf.constant([[6,7,6]])\n",
    "matrix_v=tf.constant([[3,4,3]])\n",
    "tf.matmul(matricx_u,tf.transpose(a=matrix_v))"
   ]
  },
  {
   "cell_type": "code",
   "execution_count": 89,
   "id": "8d4b4f0c",
   "metadata": {},
   "outputs": [
    {
     "data": {
      "text/plain": [
       "<tf.Tensor: shape=(2, 2), dtype=int32, numpy=\n",
       "array([[ 64, 152],\n",
       "       [ 60, 146]])>"
      ]
     },
     "execution_count": 89,
     "metadata": {},
     "output_type": "execute_result"
    }
   ],
   "source": [
    "matricx_u1=tf.constant([[6,7,6],[5,6,7]])\n",
    "matrix_v1=tf.constant([[3,4,3],[7,8,9]])\n",
    "tf.matmul(matricx_u1, tf.transpose(a=matrix_v1))"
   ]
  },
  {
   "cell_type": "code",
   "execution_count": 90,
   "id": "aac87061",
   "metadata": {},
   "outputs": [
    {
     "data": {
      "text/plain": [
       "<tf.Tensor: shape=(2, 6), dtype=float32, numpy=\n",
       "array([[10., 11., 12., 13., 14., 15.],\n",
       "       [16., 17., 18., 19., 20., 21.]], dtype=float32)>"
      ]
     },
     "execution_count": 90,
     "metadata": {},
     "output_type": "execute_result"
    }
   ],
   "source": [
    "tensor1"
   ]
  },
  {
   "cell_type": "markdown",
   "id": "6fd7d056",
   "metadata": {},
   "source": [
    "###  creating a tensor to another datatype"
   ]
  },
  {
   "cell_type": "code",
   "execution_count": 91,
   "id": "8fd7c629",
   "metadata": {},
   "outputs": [
    {
     "data": {
      "text/plain": [
       "<tf.Tensor: shape=(2, 6), dtype=int32, numpy=\n",
       "array([[10, 11, 12, 13, 14, 15],\n",
       "       [16, 17, 18, 19, 20, 21]])>"
      ]
     },
     "execution_count": 91,
     "metadata": {},
     "output_type": "execute_result"
    }
   ],
   "source": [
    "i=tf.cast(tensor1, dtype=tf.int32)\n",
    "i"
   ]
  },
  {
   "cell_type": "markdown",
   "id": "dee033f6",
   "metadata": {},
   "source": [
    "### Casting with truncation"
   ]
  },
  {
   "cell_type": "code",
   "execution_count": 92,
   "id": "a01f1301",
   "metadata": {},
   "outputs": [
    {
     "data": {
      "text/plain": [
       "<tf.Tensor: shape=(), dtype=int32, numpy=4>"
      ]
     },
     "execution_count": 92,
     "metadata": {},
     "output_type": "execute_result"
    }
   ],
   "source": [
    "j=tf.cast(tf.constant(4.9), dtype=tf.int32)\n",
    "j"
   ]
  },
  {
   "cell_type": "markdown",
   "id": "2f5b3b8c",
   "metadata": {},
   "source": [
    "### Ragged Tensor"
   ]
  },
  {
   "cell_type": "markdown",
   "id": "523bdf53",
   "metadata": {},
   "source": [
    "A ragged tensor is a tensor haing one or more ragged dimensions. Ragged dimensions are dimensions that have slices having various lengths. There are variety of methods for the declaration of ragged arrays, the simplest way is declaring a constant ragged array.\n",
    "\n",
    "\n",
    "\n",
    "\n",
    "### Below example shows how to delcare a constant ragged array"
   ]
  },
  {
   "cell_type": "code",
   "execution_count": 93,
   "id": "9bcc40c8",
   "metadata": {},
   "outputs": [
    {
     "name": "stdout",
     "output_type": "stream",
     "text": [
      "<tf.RaggedTensor [[9, 7, 4, 3], [], [11, 12, 8], [3], [7, 8]]>\n"
     ]
    }
   ],
   "source": [
    "ragged=tf.ragged.constant([[9,7,4,3],[],[11,12,8],[3],[7,8]])\n",
    "print(ragged)"
   ]
  },
  {
   "cell_type": "code",
   "execution_count": 94,
   "id": "4cff4d01",
   "metadata": {},
   "outputs": [
    {
     "name": "stdout",
     "output_type": "stream",
     "text": [
      "tf.Tensor([9 7 4 3], shape=(4,), dtype=int32)\n"
     ]
    }
   ],
   "source": [
    "print(ragged[0,:])"
   ]
  },
  {
   "cell_type": "code",
   "execution_count": 95,
   "id": "7fb7d50b",
   "metadata": {},
   "outputs": [
    {
     "name": "stdout",
     "output_type": "stream",
     "text": [
      "tf.Tensor([], shape=(0,), dtype=int32)\n"
     ]
    }
   ],
   "source": [
    "print(ragged[1,:])"
   ]
  },
  {
   "cell_type": "code",
   "execution_count": 96,
   "id": "35074465",
   "metadata": {},
   "outputs": [
    {
     "name": "stdout",
     "output_type": "stream",
     "text": [
      "tf.Tensor([11 12  8], shape=(3,), dtype=int32)\n"
     ]
    }
   ],
   "source": [
    "print(ragged[2,:])"
   ]
  },
  {
   "cell_type": "code",
   "execution_count": 97,
   "id": "1dfe4b36",
   "metadata": {},
   "outputs": [
    {
     "name": "stdout",
     "output_type": "stream",
     "text": [
      "tf.Tensor([3], shape=(1,), dtype=int32)\n"
     ]
    }
   ],
   "source": [
    "print(ragged[3,:])"
   ]
  },
  {
   "cell_type": "code",
   "execution_count": 99,
   "id": "71c7cdae",
   "metadata": {},
   "outputs": [
    {
     "name": "stdout",
     "output_type": "stream",
     "text": [
      "tf.Tensor([7 8], shape=(2,), dtype=int32)\n"
     ]
    }
   ],
   "source": [
    "print(ragged[4,:])"
   ]
  },
  {
   "cell_type": "markdown",
   "id": "44c69df4",
   "metadata": {},
   "source": [
    "### Squared difference of tensor"
   ]
  },
  {
   "cell_type": "code",
   "execution_count": 100,
   "id": "5b7144f9",
   "metadata": {},
   "outputs": [
    {
     "data": {
      "text/plain": [
       "<tf.Tensor: shape=(5,), dtype=int32, numpy=array([16,  9,  4, 49, 36])>"
      ]
     },
     "execution_count": 100,
     "metadata": {},
     "output_type": "execute_result"
    }
   ],
   "source": [
    "varx=[4,5,6,1,2]\n",
    "vary=8\n",
    "varz=tf.math.squared_difference(varx,vary)\n",
    "varz"
   ]
  },
  {
   "cell_type": "markdown",
   "id": "9d4056d9",
   "metadata": {},
   "source": [
    "### Calculate the Mean"
   ]
  },
  {
   "cell_type": "markdown",
   "id": "f76272cf",
   "metadata": {},
   "source": [
    "function available  tf.reduce_mean()"
   ]
  },
  {
   "cell_type": "code",
   "execution_count": 3,
   "id": "141ecf32",
   "metadata": {},
   "outputs": [],
   "source": [
    "#defining a constant\n",
    "numbers=tf.constant([[8.,9.],[1.,2.]])"
   ]
  },
  {
   "cell_type": "code",
   "execution_count": 4,
   "id": "c07057da",
   "metadata": {},
   "outputs": [
    {
     "data": {
      "text/plain": [
       "<tf.Tensor: shape=(), dtype=float32, numpy=5.0>"
      ]
     },
     "execution_count": 4,
     "metadata": {},
     "output_type": "execute_result"
    }
   ],
   "source": [
    "tf.reduce_mean(input_tensor=numbers)"
   ]
  },
  {
   "cell_type": "markdown",
   "id": "6234fcc8",
   "metadata": {},
   "source": [
    "### Calculate mean accross columns(reduce rowss)"
   ]
  },
  {
   "cell_type": "code",
   "execution_count": 5,
   "id": "1566bd66",
   "metadata": {},
   "outputs": [
    {
     "data": {
      "text/plain": [
       "<tf.Tensor: shape=(2,), dtype=float32, numpy=array([4.5, 5.5], dtype=float32)>"
      ]
     },
     "execution_count": 5,
     "metadata": {},
     "output_type": "execute_result"
    }
   ],
   "source": [
    "tf.reduce_mean(input_tensor=numbers, axis=0)"
   ]
  },
  {
   "cell_type": "markdown",
   "id": "51be55bf",
   "metadata": {},
   "source": [
    "### When keepdims=True"
   ]
  },
  {
   "cell_type": "code",
   "execution_count": 7,
   "id": "c00294a1",
   "metadata": {},
   "outputs": [
    {
     "data": {
      "text/plain": [
       "<tf.Tensor: shape=(1, 2), dtype=float32, numpy=array([[4.5, 5.5]], dtype=float32)>"
      ]
     },
     "execution_count": 7,
     "metadata": {},
     "output_type": "execute_result"
    }
   ],
   "source": [
    "tf.reduce_mean(input_tensor=numbers, axis=0, keepdims=True)"
   ]
  },
  {
   "cell_type": "markdown",
   "id": "b7c0a0fe",
   "metadata": {},
   "source": [
    "### Calvulate the mean accros rows(reduce columns) with this"
   ]
  },
  {
   "cell_type": "code",
   "execution_count": 8,
   "id": "2927b138",
   "metadata": {},
   "outputs": [
    {
     "data": {
      "text/plain": [
       "<tf.Tensor: shape=(2,), dtype=float32, numpy=array([8.5, 1.5], dtype=float32)>"
      ]
     },
     "execution_count": 8,
     "metadata": {},
     "output_type": "execute_result"
    }
   ],
   "source": [
    "tf.reduce_mean(input_tensor=numbers, axis=1)"
   ]
  },
  {
   "cell_type": "markdown",
   "id": "9d3bdec6",
   "metadata": {},
   "source": [
    "### When keepdims=True"
   ]
  },
  {
   "cell_type": "code",
   "execution_count": 10,
   "id": "64b4b574",
   "metadata": {},
   "outputs": [
    {
     "data": {
      "text/plain": [
       "<tf.Tensor: shape=(2, 1), dtype=float32, numpy=\n",
       "array([[8.5],\n",
       "       [1.5]], dtype=float32)>"
      ]
     },
     "execution_count": 10,
     "metadata": {},
     "output_type": "execute_result"
    }
   ],
   "source": [
    "tf.reduce_mean(input_tensor=numbers, axis=1, keepdims=True)"
   ]
  },
  {
   "cell_type": "markdown",
   "id": "16c1a220",
   "metadata": {},
   "source": [
    "### Random valuee generation"
   ]
  },
  {
   "cell_type": "markdown",
   "id": "f4db339d",
   "metadata": {},
   "source": [
    "##### tf.random.normal()  #####"
   ]
  },
  {
   "cell_type": "markdown",
   "id": "21ac9459",
   "metadata": {},
   "source": [
    "tf.random.normal() outputs a tensor of the given shape filled with values of the dtype from a normal distribution.\n",
    "\n",
    "\n",
    "the  function follows as:\n",
    "tf.random.normal(shape, mean==,stddev=2, dtype=tf.float32, seed=None, name=none)\n"
   ]
  },
  {
   "cell_type": "code",
   "execution_count": 11,
   "id": "cf8d5e22",
   "metadata": {},
   "outputs": [
    {
     "data": {
      "text/plain": [
       "<tf.Tensor: shape=(3, 2), dtype=float32, numpy=\n",
       "array([[ 7.5824127,  7.8785944],\n",
       "       [ 9.4328575, 11.26895  ],\n",
       "       [12.440712 , 12.637993 ]], dtype=float32)>"
      ]
     },
     "execution_count": 11,
     "metadata": {},
     "output_type": "execute_result"
    }
   ],
   "source": [
    "tf.random.normal(shape=(3,2), mean=10, stddev=2, dtype=tf.float32, seed=None, name=None)\n",
    "random_num=tf.random.normal(shape=(3,2), mean=10.0, stddev=2)\n",
    "random_num"
   ]
  },
  {
   "cell_type": "code",
   "execution_count": 12,
   "id": "75f251f1",
   "metadata": {},
   "outputs": [
    {
     "name": "stdout",
     "output_type": "stream",
     "text": [
      "tf.Tensor(\n",
      "[[ 7.5824127  7.8785944]\n",
      " [ 9.4328575 11.26895  ]\n",
      " [12.440712  12.637993 ]], shape=(3, 2), dtype=float32)\n"
     ]
    }
   ],
   "source": [
    "print(random_num)"
   ]
  },
  {
   "cell_type": "code",
   "execution_count": 14,
   "id": "bd4a49b4",
   "metadata": {},
   "outputs": [
    {
     "data": {
      "text/plain": [
       "<tf.Tensor: shape=(3, 2), dtype=float32, numpy=\n",
       "array([[12.807886,  6.620744],\n",
       "       [ 9.577319, 12.300316],\n",
       "       [13.024887, 10.856893]], dtype=float32)>"
      ]
     },
     "execution_count": 14,
     "metadata": {},
     "output_type": "execute_result"
    }
   ],
   "source": [
    "tf.random.normal(shape=(3,2), mean=10, stddev=2, dtype=tf.float32, seed=11, name=None)"
   ]
  },
  {
   "cell_type": "code",
   "execution_count": 20,
   "id": "210aace9",
   "metadata": {},
   "outputs": [
    {
     "data": {
      "text/plain": [
       "<tf.Tensor: shape=(3, 2), dtype=float32, numpy=\n",
       "array([[10.876822 , 12.783858 ],\n",
       "       [ 8.178115 ,  7.118142 ],\n",
       "       [ 6.5650253,  5.223289 ]], dtype=float32)>"
      ]
     },
     "execution_count": 20,
     "metadata": {},
     "output_type": "execute_result"
    }
   ],
   "source": [
    "tf.random.set_seed(11)\n",
    "tf.random.normal(shape=(3,2), mean=10, stddev=2, dtype=tf.float32, seed=11, name=None)"
   ]
  },
  {
   "cell_type": "code",
   "execution_count": 21,
   "id": "f79e81df",
   "metadata": {},
   "outputs": [
    {
     "data": {
      "text/plain": [
       "<tf.Tensor: shape=(3, 2), dtype=float32, numpy=\n",
       "array([[10.876822 , 12.783858 ],\n",
       "       [ 8.178115 ,  7.118142 ],\n",
       "       [ 6.5650253,  5.223289 ]], dtype=float32)>"
      ]
     },
     "execution_count": 21,
     "metadata": {},
     "output_type": "execute_result"
    }
   ],
   "source": [
    "tf.random.set_seed(11)\n",
    "tf.random.normal(shape=(3,2), mean=10, stddev=2, dtype=tf.float32, seed=11, name=None)"
   ]
  },
  {
   "cell_type": "code",
   "execution_count": 22,
   "id": "4a039d44",
   "metadata": {},
   "outputs": [
    {
     "data": {
      "text/plain": [
       "<tf.Tensor: shape=(3, 2), dtype=float32, numpy=\n",
       "array([[10.876822 , 12.783858 ],\n",
       "       [ 8.178115 ,  7.118142 ],\n",
       "       [ 6.5650253,  5.223289 ]], dtype=float32)>"
      ]
     },
     "execution_count": 22,
     "metadata": {},
     "output_type": "execute_result"
    }
   ],
   "source": [
    "tf.random.set_seed(11)\n",
    "tf.random.normal(shape=(3,2), mean=10, stddev=2, dtype=tf.float32, seed=11, name=None)"
   ]
  },
  {
   "cell_type": "code",
   "execution_count": 23,
   "id": "7b215a31",
   "metadata": {},
   "outputs": [
    {
     "data": {
      "text/plain": [
       "<tf.Tensor: shape=(3, 2), dtype=float32, numpy=\n",
       "array([[10.876822 , 12.783858 ],\n",
       "       [ 8.178115 ,  7.118142 ],\n",
       "       [ 6.5650253,  5.223289 ]], dtype=float32)>"
      ]
     },
     "execution_count": 23,
     "metadata": {},
     "output_type": "execute_result"
    }
   ],
   "source": [
    "tf.random.set_seed(11)\n",
    "tf.random.normal(shape=(3,2), mean=10, stddev=2, dtype=tf.float32, seed=11, name=None)"
   ]
  },
  {
   "cell_type": "markdown",
   "id": "09037f77",
   "metadata": {},
   "source": [
    "#####  tf.random.uniform() #####\n",
    "   the function is this:\n",
    "   tf.random.uniform(shape, minval=0, maxval=None, dtype=tf.float32, seed=None, name=None)\n",
    "This outsputs a tensor of the given shape filled with values from a uniform distribution in the range minval to maxval, where the lower bound is inclusive but the upper bound is not.\n",
    "\n",
    "\n",
    "Example:"
   ]
  },
  {
   "cell_type": "code",
   "execution_count": 24,
   "id": "5fab6459",
   "metadata": {},
   "outputs": [
    {
     "data": {
      "text/plain": [
       "<tf.Tensor: shape=(2, 4), dtype=float32, numpy=\n",
       "array([[0.25061703, 0.8159225 , 0.29261577, 0.9327979 ],\n",
       "       [0.76441216, 0.14772058, 0.33168125, 0.00725472]], dtype=float32)>"
      ]
     },
     "execution_count": 24,
     "metadata": {},
     "output_type": "execute_result"
    }
   ],
   "source": [
    "tf.random.uniform(shape=(2,4), minval=0,maxval=None,dtype=tf.float32, seed=None, name=None)"
   ]
  },
  {
   "cell_type": "markdown",
   "id": "8a4d6375",
   "metadata": {},
   "source": [
    "### Setting Seed"
   ]
  },
  {
   "cell_type": "code",
   "execution_count": 25,
   "id": "824c934c",
   "metadata": {},
   "outputs": [
    {
     "name": "stdout",
     "output_type": "stream",
     "text": [
      "tf.Tensor(\n",
      "[[4 6]\n",
      " [5 2]], shape=(2, 2), dtype=int32)\n"
     ]
    }
   ],
   "source": [
    "tf.random.set_seed(11)\n",
    "random_num1=tf.random.uniform(shape=(2,2), maxval=10, dtype=tf.int32)\n",
    "random_num2=tf.random.uniform(shape=(2,2), maxval=10, dtype=tf.int32)\n",
    "print(random_num1)"
   ]
  },
  {
   "cell_type": "code",
   "execution_count": 26,
   "id": "93f4dbab",
   "metadata": {},
   "outputs": [
    {
     "name": "stdout",
     "output_type": "stream",
     "text": [
      "tf.Tensor(\n",
      "[[9 7]\n",
      " [9 4]], shape=(2, 2), dtype=int32)\n"
     ]
    }
   ],
   "source": [
    "print(random_num2)"
   ]
  },
  {
   "cell_type": "markdown",
   "id": "0293385a",
   "metadata": {},
   "source": [
    "### Practical example of Random values using Dices"
   ]
  },
  {
   "cell_type": "code",
   "execution_count": 27,
   "id": "91495cf0",
   "metadata": {},
   "outputs": [
    {
     "data": {
      "text/plain": [
       "<tf.Variable 'Variable:0' shape=(10, 1) dtype=int32, numpy=\n",
       "array([[5],\n",
       "       [4],\n",
       "       [5],\n",
       "       [3],\n",
       "       [1],\n",
       "       [4],\n",
       "       [5],\n",
       "       [6],\n",
       "       [3],\n",
       "       [2]])>"
      ]
     },
     "execution_count": 27,
     "metadata": {},
     "output_type": "execute_result"
    }
   ],
   "source": [
    "dice1=tf.Variable(tf.random.uniform([10,1], minval=1, maxval=7,dtype=tf.int32))\n",
    "dice1"
   ]
  },
  {
   "cell_type": "code",
   "execution_count": 28,
   "id": "d40ce210",
   "metadata": {},
   "outputs": [
    {
     "data": {
      "text/plain": [
       "<tf.Variable 'Variable:0' shape=(10, 1) dtype=int32, numpy=\n",
       "array([[5],\n",
       "       [3],\n",
       "       [3],\n",
       "       [3],\n",
       "       [4],\n",
       "       [1],\n",
       "       [1],\n",
       "       [4],\n",
       "       [3],\n",
       "       [3]])>"
      ]
     },
     "execution_count": 28,
     "metadata": {},
     "output_type": "execute_result"
    }
   ],
   "source": [
    "dice2=tf.Variable(tf.random.uniform([10,1], minval=1, maxval=7, dtype=tf.int32))\n",
    "dice2"
   ]
  },
  {
   "cell_type": "code",
   "execution_count": 29,
   "id": "596b9f60",
   "metadata": {},
   "outputs": [
    {
     "data": {
      "text/plain": [
       "<tf.Tensor: shape=(10, 1), dtype=int32, numpy=\n",
       "array([[10],\n",
       "       [ 7],\n",
       "       [ 8],\n",
       "       [ 6],\n",
       "       [ 5],\n",
       "       [ 5],\n",
       "       [ 6],\n",
       "       [10],\n",
       "       [ 6],\n",
       "       [ 5]])>"
      ]
     },
     "execution_count": 29,
     "metadata": {},
     "output_type": "execute_result"
    }
   ],
   "source": [
    "dice_sum=dice1+dice2\n",
    "dice_sum"
   ]
  },
  {
   "cell_type": "code",
   "execution_count": 31,
   "id": "9d084f5b",
   "metadata": {},
   "outputs": [
    {
     "data": {
      "text/plain": [
       "<tf.Tensor: shape=(10, 3), dtype=int32, numpy=\n",
       "array([[ 5,  5, 10],\n",
       "       [ 4,  3,  7],\n",
       "       [ 5,  3,  8],\n",
       "       [ 3,  3,  6],\n",
       "       [ 1,  4,  5],\n",
       "       [ 4,  1,  5],\n",
       "       [ 5,  1,  6],\n",
       "       [ 6,  4, 10],\n",
       "       [ 3,  3,  6],\n",
       "       [ 2,  3,  5]])>"
      ]
     },
     "execution_count": 31,
     "metadata": {},
     "output_type": "execute_result"
    }
   ],
   "source": [
    "final_matrix=tf.concat(values=[dice1,dice2,dice_sum], axis=1)\n",
    "final_matrix"
   ]
  },
  {
   "cell_type": "code",
   "execution_count": null,
   "id": "5d75ff78",
   "metadata": {},
   "outputs": [],
   "source": []
  },
  {
   "cell_type": "code",
   "execution_count": 33,
   "id": "adb36652",
   "metadata": {},
   "outputs": [
    {
     "data": {
      "text/plain": [
       "<tf.Tensor: shape=(10, 3), dtype=int32, numpy=\n",
       "array([[ 3,  4,  7],\n",
       "       [ 4,  5,  9],\n",
       "       [ 1,  1,  2],\n",
       "       [ 5,  5, 10],\n",
       "       [ 6,  2,  8],\n",
       "       [ 6,  6, 12],\n",
       "       [ 6,  5, 11],\n",
       "       [ 1,  4,  5],\n",
       "       [ 6,  3,  9],\n",
       "       [ 4,  4,  8]])>"
      ]
     },
     "execution_count": 33,
     "metadata": {},
     "output_type": "execute_result"
    }
   ],
   "source": [
    "dice1=tf.Variable(tf.random.uniform([10,1], minval=1, maxval=7,dtype=tf.int32))\n",
    "dice2=tf.Variable(tf.random.uniform([10,1], minval=1, maxval=7, dtype=tf.int32))\n",
    "#lets Add\n",
    "dice_sum=dice1+dice2\n",
    "final_matrix=tf.concat(values=[dice1,dice2,dice_sum], axis=1)\n",
    "final_matrix"
   ]
  },
  {
   "cell_type": "code",
   "execution_count": null,
   "id": "a4a74ec3",
   "metadata": {},
   "outputs": [],
   "source": []
  }
 ],
 "metadata": {
  "kernelspec": {
   "display_name": "Python 3 (ipykernel)",
   "language": "python",
   "name": "python3"
  },
  "language_info": {
   "codemirror_mode": {
    "name": "ipython",
    "version": 3
   },
   "file_extension": ".py",
   "mimetype": "text/x-python",
   "name": "python",
   "nbconvert_exporter": "python",
   "pygments_lexer": "ipython3",
   "version": "3.7.0"
  }
 },
 "nbformat": 4,
 "nbformat_minor": 5
}
