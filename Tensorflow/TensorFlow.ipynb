{
 "cells": [
  {
   "cell_type": "markdown",
   "id": "d4e6da41",
   "metadata": {},
   "source": [
    "# What is TensorFlow?\n",
    "\n",
    "![](https://upload.wikimedia.org/wikipedia/commons/a/a4/TensorFlowLogo.png)\n",
    "\n",
    "\n",
    "TensorFlow is an open source software library released in 2015 by Google to make it easier for developers to design, build, and train deep learning models. TensorFlow originated as an internal library that Google developers used to build models in-house, and we expect additional functionality to be added to the open source version as they are tested and vetted in the internal flavor. Although TensorFlow is only one of several options available to developers, we choose to use it here because of its thoughtful design and ease of use. We’ll briefly compare TensorFlow to alternatives in the next section.\n",
    "\n",
    "At a high level, TensorFlow is a Python library that allows users to express arbitrary computation as a graph of data flows. Nodes in this graph represent mathematical operations, whereas edges represent data that is communicated from one node to another. Data in TensorFlow are represented as tensors, which are multidimensional arrays. Although this framework for thinking about computation is valuable in many different fields, TensorFlow is primarily used for deep learning in practice and research.\n"
   ]
  },
  {
   "cell_type": "markdown",
   "id": "150e2878",
   "metadata": {},
   "source": [
    "## Install\n",
    "As usual, we'll be using Conda to install TensorFlow. You might already have a TensorFlow environment, but check to make sure you have all the necessary packages.\n",
    "\n",
    "### OS X or Linux\n",
    "Run the following commands to setup your environment:\n",
    "\n",
    "    conda create -n tensorflow python=3.5\n",
    "    source activate tensorflow\n",
    "    conda install pandas matplotlib jupyter notebook scipy scikit-learn\n",
    "    pip install tensorflow\n",
    "\n",
    "### Windows\n",
    "And installing on Windows. In your console or Anaconda shell,\n",
    "\n",
    "    conda create -n tensorflow python=3.5\n",
    "    activate tensorflow\n",
    "    conda install pandas matplotlib jupyter notebook scipy scikit-learn\n",
    "    pip install tensorflow\n",
    "\n",
    "### Hello, world!\n",
    "Try running the following code in your Python console to make sure you have TensorFlow properly installed. The console will print \"Hello, world!\" if TensorFlow is installed. Don’t worry about understanding what it does. You’ll learn about it in the next section."
   ]
  },
  {
   "cell_type": "code",
   "execution_count": 1,
   "id": "4a529e2b",
   "metadata": {},
   "outputs": [],
   "source": [
    "import tensorflow as tf"
   ]
  },
  {
   "cell_type": "code",
   "execution_count": 4,
   "id": "cd89c534",
   "metadata": {},
   "outputs": [
    {
     "data": {
      "text/plain": [
       "<tf.Tensor: shape=(), dtype=string, numpy=b'Hello World'>"
      ]
     },
     "execution_count": 4,
     "metadata": {},
     "output_type": "execute_result"
    }
   ],
   "source": [
    "hello_constant=tf.constant('Hello World')\n",
    "hello_constant"
   ]
  },
  {
   "cell_type": "code",
   "execution_count": 7,
   "id": "f9f1e2f8",
   "metadata": {},
   "outputs": [
    {
     "name": "stdout",
     "output_type": "stream",
     "text": [
      "Tensorflow version:2.7.0\n",
      "Keras version: 2.7.0\n"
     ]
    }
   ],
   "source": [
    "# Version Check\n",
    "import tensorflow as tf\n",
    "#create tensorflow object called tensor\n",
    "print(\"Tensorflow version:{}\".format(tf.__version__))\n",
    "print(\"Keras version: {}\".format(tf.keras.__version__))"
   ]
  },
  {
   "cell_type": "markdown",
   "id": "9abdda9d",
   "metadata": {},
   "source": [
    "### GPU/CPU Check"
   ]
  },
  {
   "cell_type": "code",
   "execution_count": 8,
   "id": "d763a79d",
   "metadata": {},
   "outputs": [
    {
     "name": "stdout",
     "output_type": "stream",
     "text": [
      "WARNING:tensorflow:From C:\\Users\\kulki\\AppData\\Local\\Temp\\ipykernel_16172\\3700108689.py:2: is_gpu_available (from tensorflow.python.framework.test_util) is deprecated and will be removed in a future version.\n",
      "Instructions for updating:\n",
      "Use `tf.config.list_physical_devices('GPU')` instead.\n",
      "CPU\n"
     ]
    }
   ],
   "source": [
    "variable=tf.Variable([3,3])\n",
    "if tf.test.is_gpu_available():\n",
    "    print('GPU')\n",
    "else:\n",
    "    print('CPU')"
   ]
  },
  {
   "cell_type": "markdown",
   "id": "09418b5d",
   "metadata": {},
   "source": [
    "### Tensor Constant"
   ]
  },
  {
   "cell_type": "code",
   "execution_count": 11,
   "id": "896c8d7f",
   "metadata": {},
   "outputs": [
    {
     "data": {
      "text/plain": [
       "tensorflow.python.framework.ops.EagerTensor"
      ]
     },
     "execution_count": 11,
     "metadata": {},
     "output_type": "execute_result"
    }
   ],
   "source": [
    "tensor=tf.constant(42)\n",
    "tensor\n",
    "type(tensor)"
   ]
  },
  {
   "cell_type": "code",
   "execution_count": 10,
   "id": "05da5f55",
   "metadata": {},
   "outputs": [
    {
     "data": {
      "text/plain": [
       "42"
      ]
     },
     "execution_count": 10,
     "metadata": {},
     "output_type": "execute_result"
    }
   ],
   "source": [
    "tensor.numpy()"
   ]
  },
  {
   "cell_type": "code",
   "execution_count": 12,
   "id": "8ff864f4",
   "metadata": {},
   "outputs": [
    {
     "data": {
      "text/plain": [
       "tf.int32"
      ]
     },
     "execution_count": 12,
     "metadata": {},
     "output_type": "execute_result"
    }
   ],
   "source": [
    "tensor.dtype"
   ]
  },
  {
   "cell_type": "code",
   "execution_count": 13,
   "id": "e929ca6f",
   "metadata": {},
   "outputs": [
    {
     "data": {
      "text/plain": [
       "<tf.Tensor: shape=(), dtype=int64, numpy=1>"
      ]
     },
     "execution_count": 13,
     "metadata": {},
     "output_type": "execute_result"
    }
   ],
   "source": [
    "tensor1=tf.constant(1, dtype=tf.int64)\n",
    "tensor1"
   ]
  },
  {
   "cell_type": "code",
   "execution_count": 15,
   "id": "b8c35cba",
   "metadata": {},
   "outputs": [
    {
     "name": "stdout",
     "output_type": "stream",
     "text": [
      "tf.Tensor(\n",
      "[[4 2]\n",
      " [9 5]], shape=(2, 2), dtype=int32)\n"
     ]
    }
   ],
   "source": [
    "tensor_x=tf.constant([[4,2],[9,5]])\n",
    "print(tensor_x)"
   ]
  },
  {
   "cell_type": "code",
   "execution_count": 16,
   "id": "292025e9",
   "metadata": {},
   "outputs": [
    {
     "data": {
      "text/plain": [
       "array([[4, 2],\n",
       "       [9, 5]])"
      ]
     },
     "execution_count": 16,
     "metadata": {},
     "output_type": "execute_result"
    }
   ],
   "source": [
    "tensor_x.numpy()"
   ]
  },
  {
   "cell_type": "code",
   "execution_count": 17,
   "id": "43d4cf50",
   "metadata": {},
   "outputs": [
    {
     "name": "stdout",
     "output_type": "stream",
     "text": [
      "shape:\n",
      "(2, 2)\n"
     ]
    }
   ],
   "source": [
    "print(f\"shape:\\n{tensor_x.shape}\")"
   ]
  },
  {
   "cell_type": "code",
   "execution_count": 18,
   "id": "ae8dfd94",
   "metadata": {},
   "outputs": [
    {
     "name": "stdout",
     "output_type": "stream",
     "text": [
      "Data-Type: <dtype: 'int32'>\n"
     ]
    }
   ],
   "source": [
    "print(\"Data-Type:\",tensor_x.dtype)"
   ]
  },
  {
   "cell_type": "markdown",
   "id": "4981a6ae",
   "metadata": {},
   "source": [
    "### Commonly used method is to generate constant tf.ones and tf.zeros like of numpy np.ones and np.zeros"
   ]
  },
  {
   "cell_type": "code",
   "execution_count": 19,
   "id": "c8906f6d",
   "metadata": {},
   "outputs": [
    {
     "name": "stdout",
     "output_type": "stream",
     "text": [
      "tf.Tensor(\n",
      "[[1. 1. 1.]\n",
      " [1. 1. 1.]], shape=(2, 3), dtype=float32)\n"
     ]
    }
   ],
   "source": [
    "print(tf.ones(shape=(2,3)))"
   ]
  },
  {
   "cell_type": "code",
   "execution_count": 20,
   "id": "f568fa26",
   "metadata": {},
   "outputs": [
    {
     "name": "stdout",
     "output_type": "stream",
     "text": [
      "tf.Tensor(\n",
      "[[0. 0.]\n",
      " [0. 0.]\n",
      " [0. 0.]], shape=(3, 2), dtype=float32)\n"
     ]
    }
   ],
   "source": [
    "print(tf.zeros(shape=(3,2)))"
   ]
  },
  {
   "cell_type": "code",
   "execution_count": 21,
   "id": "beb33eed",
   "metadata": {},
   "outputs": [
    {
     "name": "stdout",
     "output_type": "stream",
     "text": [
      "tf.Tensor(\n",
      "[[ 4  6  8]\n",
      " [ 6  9 11]], shape=(2, 3), dtype=int32)\n"
     ]
    }
   ],
   "source": [
    "const1=tf.constant([[3,4,5],[2,4,5]]);\n",
    "const2=tf.constant([[1,2,3],[4,5,6]]);\n",
    "result=tf.add(const1,const2)\n",
    "print(result)"
   ]
  },
  {
   "cell_type": "markdown",
   "id": "146cf192",
   "metadata": {},
   "source": [
    "### Random Constant"
   ]
  },
  {
   "cell_type": "code",
   "execution_count": 28,
   "id": "bbbbacd2",
   "metadata": {},
   "outputs": [
    {
     "data": {
      "text/plain": [
       "<tf.Tensor: shape=(2, 2), dtype=float32, numpy=\n",
       "array([[ 1.9712412 , -1.2009478 ],\n",
       "       [ 0.8507134 ,  0.00264949]], dtype=float32)>"
      ]
     },
     "execution_count": 28,
     "metadata": {},
     "output_type": "execute_result"
    }
   ],
   "source": [
    "tf.random.normal(shape=(2,2), mean=0,stddev=1.0)"
   ]
  },
  {
   "cell_type": "code",
   "execution_count": 26,
   "id": "44ed1bbc",
   "metadata": {},
   "outputs": [
    {
     "data": {
      "text/plain": [
       "<tf.Tensor: shape=(2, 2), dtype=int32, numpy=\n",
       "array([[5, 4],\n",
       "       [4, 2]])>"
      ]
     },
     "execution_count": 26,
     "metadata": {},
     "output_type": "execute_result"
    }
   ],
   "source": [
    "tf.random.uniform(shape=(2,2), minval=0,maxval=10, dtype=tf.int32)"
   ]
  },
  {
   "cell_type": "markdown",
   "id": "e21d44ca",
   "metadata": {},
   "source": [
    "### Variable"
   ]
  },
  {
   "cell_type": "markdown",
   "id": "233de23d",
   "metadata": {},
   "source": [
    "\n",
    "A variable is a special tensor that is used to store variable values and need to be initialized with some values"
   ]
  },
  {
   "cell_type": "markdown",
   "id": "cdee0031",
   "metadata": {},
   "source": [
    "### Declaring a variable"
   ]
  },
  {
   "cell_type": "code",
   "execution_count": 29,
   "id": "2d7eddd2",
   "metadata": {},
   "outputs": [
    {
     "data": {
      "text/plain": [
       "(12,\n",
       " <tf.Variable 'Variable:0' shape=() dtype=int32, numpy=42>,\n",
       " <tf.Variable 'Variable:0' shape=(4, 3) dtype=float32, numpy=\n",
       " array([[ 0.,  1.,  2.],\n",
       "        [ 3.,  4.,  5.],\n",
       "        [ 6.,  7.,  8.],\n",
       "        [ 9., 10., 11.]], dtype=float32)>)"
      ]
     },
     "execution_count": 29,
     "metadata": {},
     "output_type": "execute_result"
    }
   ],
   "source": [
    "var=12#python variable\n",
    "var1=tf.Variable(42)\n",
    "var2=tf.Variable([[0.,1.,2.],[3.,4.,5.],[6.,7.,8.],[9.,10.,11.]])# ranl 3 sensor\n",
    "var, var1,var2"
   ]
  },
  {
   "cell_type": "markdown",
   "id": "56204c52",
   "metadata": {},
   "source": [
    "### Data type can be explicitely specified"
   ]
  },
  {
   "cell_type": "code",
   "execution_count": 30,
   "id": "f73628b2",
   "metadata": {},
   "outputs": [
    {
     "data": {
      "text/plain": [
       "<tf.Variable 'Variable:0' shape=() dtype=float64, numpy=89.0>"
      ]
     },
     "execution_count": 30,
     "metadata": {},
     "output_type": "execute_result"
    }
   ],
   "source": [
    "float_64=tf.Variable(89, dtype=tf.float64)\n",
    "float_64"
   ]
  },
  {
   "cell_type": "markdown",
   "id": "17ab3482",
   "metadata": {},
   "source": [
    "### to reassign a variable, use var.assign()"
   ]
  },
  {
   "cell_type": "code",
   "execution_count": 35,
   "id": "5075c970",
   "metadata": {},
   "outputs": [],
   "source": [
    "tensor_2=tf.constant(1)\n",
    "#tensor_2.assign(2)"
   ]
  },
  {
   "cell_type": "code",
   "execution_count": 32,
   "id": "c55e48b6",
   "metadata": {},
   "outputs": [
    {
     "data": {
      "text/plain": [
       "<tf.Variable 'Variable:0' shape=() dtype=float32, numpy=89.0>"
      ]
     },
     "execution_count": 32,
     "metadata": {},
     "output_type": "execute_result"
    }
   ],
   "source": [
    "var_reassign=tf.Variable(89.)\n",
    "var_reassign"
   ]
  },
  {
   "cell_type": "code",
   "execution_count": 33,
   "id": "f546a734",
   "metadata": {},
   "outputs": [
    {
     "data": {
      "text/plain": [
       "<tf.Variable 'UnreadVariable' shape=() dtype=float32, numpy=54.0>"
      ]
     },
     "execution_count": 33,
     "metadata": {},
     "output_type": "execute_result"
    }
   ],
   "source": [
    "var_reassign.assign(54)"
   ]
  },
  {
   "cell_type": "code",
   "execution_count": 38,
   "id": "0d76b50b",
   "metadata": {},
   "outputs": [
    {
     "data": {
      "text/plain": [
       "<tf.Tensor: shape=(2, 2), dtype=float32, numpy=\n",
       "array([[ 1.0911499,  1.2925048],\n",
       "       [-0.9404922,  2.1465063]], dtype=float32)>"
      ]
     },
     "execution_count": 38,
     "metadata": {},
     "output_type": "execute_result"
    }
   ],
   "source": [
    "new_value=tf.random.normal(shape=(2,2))\n",
    "a=tf.Variable(new_value)\n",
    "a.assign(new_value)\n",
    "for i in range(2):\n",
    "    for j in range(2):\n",
    "        assert a[i,j]==new_value[i,j]\n",
    "new_value"
   ]
  },
  {
   "cell_type": "code",
   "execution_count": 40,
   "id": "d8af22c8",
   "metadata": {},
   "outputs": [],
   "source": [
    "added_value=tf.random.normal(shape=(2,2))\n",
    "a.assign_add(added_value)\n",
    "for i in range(2):\n",
    "    for j in range(2):\n",
    "        assert a[i,j]==new_value[i,j]+added_value[i,j]"
   ]
  },
  {
   "cell_type": "code",
   "execution_count": 41,
   "id": "d9eb6130",
   "metadata": {},
   "outputs": [
    {
     "data": {
      "text/plain": [
       "<tf.Tensor: shape=(2, 2), dtype=float32, numpy=\n",
       "array([[ 0.5196845 ,  1.1475024 ],\n",
       "       [-0.48373485,  0.20953108]], dtype=float32)>"
      ]
     },
     "execution_count": 41,
     "metadata": {},
     "output_type": "execute_result"
    }
   ],
   "source": [
    "added_value"
   ]
  },
  {
   "cell_type": "markdown",
   "id": "6188252c",
   "metadata": {},
   "source": [
    "### Shaping a tensor"
   ]
  },
  {
   "cell_type": "code",
   "execution_count": 59,
   "id": "276cf671",
   "metadata": {},
   "outputs": [
    {
     "name": "stdout",
     "output_type": "stream",
     "text": [
      "(2, 2, 3)\n",
      "(1, 4, 3)\n"
     ]
    }
   ],
   "source": [
    "tensor=tf.Variable([[[10.,11.,12.],[13.,14.,15.]],[[16.,17.,18.],[19.,20.,21.]]])\n",
    "print(tensor.shape)\n",
    "tensor_01=tf.Variable([[[10.,11.,12.],[13.,14.,15.],[16.,17.,18.],[19.,20.,21.]]])\n",
    "print(tensor_01.shape)"
   ]
  },
  {
   "cell_type": "code",
   "execution_count": 56,
   "id": "a9edc908",
   "metadata": {},
   "outputs": [
    {
     "data": {
      "text/plain": [
       "<tf.Tensor: shape=(2, 6), dtype=float32, numpy=\n",
       "array([[10., 11., 12., 13., 14., 15.],\n",
       "       [16., 17., 18., 19., 20., 21.]], dtype=float32)>"
      ]
     },
     "execution_count": 56,
     "metadata": {},
     "output_type": "execute_result"
    }
   ],
   "source": [
    "tensor1=tf.reshape(tensor,[2,6])\n",
    "tensor1"
   ]
  },
  {
   "cell_type": "code",
   "execution_count": 57,
   "id": "99762778",
   "metadata": {},
   "outputs": [
    {
     "data": {
      "text/plain": [
       "<tf.Tensor: shape=(1, 12), dtype=float32, numpy=\n",
       "array([[10., 11., 12., 13., 14., 15., 16., 17., 18., 19., 20., 21.]],\n",
       "      dtype=float32)>"
      ]
     },
     "execution_count": 57,
     "metadata": {},
     "output_type": "execute_result"
    }
   ],
   "source": [
    "tensor2=tf.reshape(tensor,[1,12])\n",
    "tensor2"
   ]
  },
  {
   "cell_type": "markdown",
   "id": "5f305c5e",
   "metadata": {},
   "source": [
    "### Rank of Tensor"
   ]
  },
  {
   "cell_type": "markdown",
   "id": "2988cd6d",
   "metadata": {},
   "source": [
    "The rank of tensor is defiend as the number of dimensions, which is the number of indices that are required to specify any particular element of that tensor"
   ]
  },
  {
   "cell_type": "code",
   "execution_count": 62,
   "id": "09dd289a",
   "metadata": {},
   "outputs": [
    {
     "data": {
      "text/plain": [
       "<tf.Variable 'Variable:0' shape=(2, 2, 3) dtype=float32, numpy=\n",
       "array([[[10., 11., 12.],\n",
       "        [13., 14., 15.]],\n",
       "\n",
       "       [[16., 17., 18.],\n",
       "        [19., 20., 21.]]], dtype=float32)>"
      ]
     },
     "execution_count": 62,
     "metadata": {},
     "output_type": "execute_result"
    }
   ],
   "source": [
    "tf.rank(tensor)\n",
    "tensor"
   ]
  },
  {
   "cell_type": "markdown",
   "id": "f7157464",
   "metadata": {},
   "source": [
    "### Specifying an element of a tensor"
   ]
  },
  {
   "cell_type": "code",
   "execution_count": 58,
   "id": "a3225e62",
   "metadata": {},
   "outputs": [
    {
     "data": {
      "text/plain": [
       "<tf.Variable 'Variable:0' shape=(2, 2, 3) dtype=float32, numpy=\n",
       "array([[[10., 11., 12.],\n",
       "        [13., 14., 15.]],\n",
       "\n",
       "       [[16., 17., 18.],\n",
       "        [19., 20., 21.]]], dtype=float32)>"
      ]
     },
     "execution_count": 58,
     "metadata": {},
     "output_type": "execute_result"
    }
   ],
   "source": [
    "tensor"
   ]
  },
  {
   "cell_type": "code",
   "execution_count": 65,
   "id": "9684d89c",
   "metadata": {},
   "outputs": [
    {
     "data": {
      "text/plain": [
       "<tf.Tensor: shape=(), dtype=float32, numpy=18.0>"
      ]
     },
     "execution_count": 65,
     "metadata": {},
     "output_type": "execute_result"
    }
   ],
   "source": [
    "tensor3=tensor[1,0,2]\n",
    "tensor3\n"
   ]
  },
  {
   "cell_type": "code",
   "execution_count": 66,
   "id": "4a466e64",
   "metadata": {},
   "outputs": [
    {
     "data": {
      "text/plain": [
       "<tf.Variable 'Variable:0' shape=(2, 2, 3) dtype=float32, numpy=\n",
       "array([[[10., 11., 12.],\n",
       "        [13., 14., 15.]],\n",
       "\n",
       "       [[16., 17., 18.],\n",
       "        [19., 20., 21.]]], dtype=float32)>"
      ]
     },
     "execution_count": 66,
     "metadata": {},
     "output_type": "execute_result"
    }
   ],
   "source": [
    "tensor"
   ]
  },
  {
   "cell_type": "code",
   "execution_count": 67,
   "id": "0f740b16",
   "metadata": {},
   "outputs": [
    {
     "data": {
      "text/plain": [
       "<tf.Tensor: shape=(3,), dtype=float32, numpy=array([13., 14., 15.], dtype=float32)>"
      ]
     },
     "execution_count": 67,
     "metadata": {},
     "output_type": "execute_result"
    }
   ],
   "source": [
    "tensor[0][1]"
   ]
  },
  {
   "cell_type": "code",
   "execution_count": 68,
   "id": "16ed1de8",
   "metadata": {},
   "outputs": [
    {
     "data": {
      "text/plain": [
       "<tf.Tensor: shape=(3,), dtype=float32, numpy=array([19., 20., 21.], dtype=float32)>"
      ]
     },
     "execution_count": 68,
     "metadata": {},
     "output_type": "execute_result"
    }
   ],
   "source": [
    "tensor[1][1]"
   ]
  },
  {
   "cell_type": "code",
   "execution_count": 69,
   "id": "9468d83c",
   "metadata": {},
   "outputs": [
    {
     "data": {
      "text/plain": [
       "<tf.Tensor: shape=(), dtype=float32, numpy=20.0>"
      ]
     },
     "execution_count": 69,
     "metadata": {},
     "output_type": "execute_result"
    }
   ],
   "source": [
    "tensor[1][1][1]"
   ]
  },
  {
   "cell_type": "markdown",
   "id": "c4168b93",
   "metadata": {},
   "source": [
    "### Casting a tensor to a Numpy Variable"
   ]
  },
  {
   "cell_type": "code",
   "execution_count": 70,
   "id": "43a0f29b",
   "metadata": {},
   "outputs": [
    {
     "name": "stdout",
     "output_type": "stream",
     "text": [
      "[[[10. 11. 12.]\n",
      "  [13. 14. 15.]]\n",
      "\n",
      " [[16. 17. 18.]\n",
      "  [19. 20. 21.]]]\n"
     ]
    }
   ],
   "source": [
    "print(tensor.numpy())"
   ]
  },
  {
   "cell_type": "code",
   "execution_count": 75,
   "id": "385571cd",
   "metadata": {},
   "outputs": [
    {
     "name": "stdout",
     "output_type": "stream",
     "text": [
      "18.0\n"
     ]
    }
   ],
   "source": [
    "import numpy\n",
    "print(tensor[1,0,2].numpy())"
   ]
  },
  {
   "cell_type": "markdown",
   "id": "2310eb35",
   "metadata": {},
   "source": [
    "### Finding the size or length of a tensor"
   ]
  },
  {
   "cell_type": "code",
   "execution_count": 76,
   "id": "3033c3e4",
   "metadata": {},
   "outputs": [
    {
     "data": {
      "text/plain": [
       "12"
      ]
     },
     "execution_count": 76,
     "metadata": {},
     "output_type": "execute_result"
    }
   ],
   "source": [
    "tensor_size=tf.size(input=tensor).numpy()\n",
    "tensor_size"
   ]
  },
  {
   "cell_type": "code",
   "execution_count": 77,
   "id": "92db377e",
   "metadata": {},
   "outputs": [
    {
     "data": {
      "text/plain": [
       "<tf.Tensor: shape=(), dtype=float32, numpy=18.0>"
      ]
     },
     "execution_count": 77,
     "metadata": {},
     "output_type": "execute_result"
    }
   ],
   "source": [
    "tensor3"
   ]
  },
  {
   "cell_type": "code",
   "execution_count": 78,
   "id": "e6bcd6bb",
   "metadata": {},
   "outputs": [
    {
     "data": {
      "text/plain": [
       "tf.float32"
      ]
     },
     "execution_count": 78,
     "metadata": {},
     "output_type": "execute_result"
    }
   ],
   "source": [
    "tensor3.dtype"
   ]
  },
  {
   "cell_type": "markdown",
   "id": "7fec22c5",
   "metadata": {},
   "source": [
    "### Tensorflow Mathmatical Operation"
   ]
  },
  {
   "cell_type": "code",
   "execution_count": 80,
   "id": "f498d46d",
   "metadata": {},
   "outputs": [
    {
     "name": "stdout",
     "output_type": "stream",
     "text": [
      "tf.Tensor(\n",
      "[[ 0.34579328 -0.46292663]\n",
      " [-0.12398    -1.0976231 ]], shape=(2, 2), dtype=float32)\n",
      "tf.Tensor(\n",
      "[[ 1.7245681  -0.06326357]\n",
      " [-0.52673    -0.28832227]], shape=(2, 2), dtype=float32)\n",
      "tf.Tensor(\n",
      "[[ 2.0703614  -0.52619016]\n",
      " [-0.65071    -1.3859453 ]], shape=(2, 2), dtype=float32)\n",
      "tf.Tensor(\n",
      "[[4.286396  0.2768761]\n",
      " [0.4234235 1.9208444]], shape=(2, 2), dtype=float32)\n",
      "tf.Tensor(\n",
      "[[7.9276876 0.5908517]\n",
      " [0.5216753 0.2500873]], shape=(2, 2), dtype=float32)\n"
     ]
    }
   ],
   "source": [
    "a=tf.random.normal(shape=(2,2))\n",
    "b=tf.random.normal(shape=(2,2))\n",
    "c=a+b\n",
    "d=tf.square(c)\n",
    "e=tf.exp(c)\n",
    "print(a)\n",
    "print(b)\n",
    "print(c)\n",
    "print(d)\n",
    "print(e)"
   ]
  },
  {
   "cell_type": "markdown",
   "id": "59766b2f",
   "metadata": {},
   "source": [
    "### Perform element wise operation"
   ]
  },
  {
   "cell_type": "code",
   "execution_count": 81,
   "id": "3be78cf7",
   "metadata": {},
   "outputs": [
    {
     "data": {
      "text/plain": [
       "<tf.Variable 'Variable:0' shape=(2, 2, 3) dtype=float32, numpy=\n",
       "array([[[10., 11., 12.],\n",
       "        [13., 14., 15.]],\n",
       "\n",
       "       [[16., 17., 18.],\n",
       "        [19., 20., 21.]]], dtype=float32)>"
      ]
     },
     "execution_count": 81,
     "metadata": {},
     "output_type": "execute_result"
    }
   ],
   "source": [
    "tensor"
   ]
  },
  {
   "cell_type": "code",
   "execution_count": 82,
   "id": "e6f117cb",
   "metadata": {},
   "outputs": [
    {
     "data": {
      "text/plain": [
       "<tf.Tensor: shape=(2, 2, 3), dtype=float32, numpy=\n",
       "array([[[100., 121., 144.],\n",
       "        [169., 196., 225.]],\n",
       "\n",
       "       [[256., 289., 324.],\n",
       "        [361., 400., 441.]]], dtype=float32)>"
      ]
     },
     "execution_count": 82,
     "metadata": {},
     "output_type": "execute_result"
    }
   ],
   "source": [
    "tensor*tensor"
   ]
  },
  {
   "cell_type": "markdown",
   "id": "fe7c92f5",
   "metadata": {},
   "source": [
    "## Broadcasting operation"
   ]
  },
  {
   "cell_type": "markdown",
   "id": "22b8ac11",
   "metadata": {},
   "source": [
    "Element-wise tensor operations support broadcasting in the same way that Numpy arrays do\n",
    "\n",
    "\n",
    "\n",
    "The simplest example is multiplication of a tensor by a scalar value"
   ]
  },
  {
   "cell_type": "code",
   "execution_count": 83,
   "id": "26d80ba5",
   "metadata": {},
   "outputs": [
    {
     "data": {
      "text/plain": [
       "<tf.Tensor: shape=(2, 2, 3), dtype=float32, numpy=\n",
       "array([[[40., 44., 48.],\n",
       "        [52., 56., 60.]],\n",
       "\n",
       "       [[64., 68., 72.],\n",
       "        [76., 80., 84.]]], dtype=float32)>"
      ]
     },
     "execution_count": 83,
     "metadata": {},
     "output_type": "execute_result"
    }
   ],
   "source": [
    "tensor4=tensor*4\n",
    "tensor4"
   ]
  },
  {
   "cell_type": "markdown",
   "id": "55545560",
   "metadata": {},
   "source": [
    "### Transpose Matrix Multiplication"
   ]
  },
  {
   "cell_type": "code",
   "execution_count": 87,
   "id": "17b5435a",
   "metadata": {},
   "outputs": [
    {
     "data": {
      "text/plain": [
       "<tf.Tensor: shape=(1, 1), dtype=int32, numpy=array([[64]])>"
      ]
     },
     "execution_count": 87,
     "metadata": {},
     "output_type": "execute_result"
    }
   ],
   "source": [
    "matricx_u=tf.constant([[6,7,6]])\n",
    "matrix_v=tf.constant([[3,4,3]])\n",
    "tf.matmul(matricx_u,tf.transpose(a=matrix_v))"
   ]
  },
  {
   "cell_type": "code",
   "execution_count": 89,
   "id": "2b448499",
   "metadata": {},
   "outputs": [
    {
     "data": {
      "text/plain": [
       "<tf.Tensor: shape=(2, 2), dtype=int32, numpy=\n",
       "array([[ 64, 152],\n",
       "       [ 60, 146]])>"
      ]
     },
     "execution_count": 89,
     "metadata": {},
     "output_type": "execute_result"
    }
   ],
   "source": [
    "matricx_u1=tf.constant([[6,7,6],[5,6,7]])\n",
    "matrix_v1=tf.constant([[3,4,3],[7,8,9]])\n",
    "tf.matmul(matricx_u1, tf.transpose(a=matrix_v1))"
   ]
  },
  {
   "cell_type": "code",
   "execution_count": 90,
   "id": "79f9b3e2",
   "metadata": {},
   "outputs": [
    {
     "data": {
      "text/plain": [
       "<tf.Tensor: shape=(2, 6), dtype=float32, numpy=\n",
       "array([[10., 11., 12., 13., 14., 15.],\n",
       "       [16., 17., 18., 19., 20., 21.]], dtype=float32)>"
      ]
     },
     "execution_count": 90,
     "metadata": {},
     "output_type": "execute_result"
    }
   ],
   "source": [
    "tensor1"
   ]
  },
  {
   "cell_type": "markdown",
   "id": "cd466d7d",
   "metadata": {},
   "source": [
    "###  creating a tensor to another datatype"
   ]
  },
  {
   "cell_type": "code",
   "execution_count": 91,
   "id": "14f12e71",
   "metadata": {},
   "outputs": [
    {
     "data": {
      "text/plain": [
       "<tf.Tensor: shape=(2, 6), dtype=int32, numpy=\n",
       "array([[10, 11, 12, 13, 14, 15],\n",
       "       [16, 17, 18, 19, 20, 21]])>"
      ]
     },
     "execution_count": 91,
     "metadata": {},
     "output_type": "execute_result"
    }
   ],
   "source": [
    "i=tf.cast(tensor1, dtype=tf.int32)\n",
    "i"
   ]
  },
  {
   "cell_type": "markdown",
   "id": "e0e104f4",
   "metadata": {},
   "source": [
    "### Casting with truncation"
   ]
  },
  {
   "cell_type": "code",
   "execution_count": 92,
   "id": "ef56bd00",
   "metadata": {},
   "outputs": [
    {
     "data": {
      "text/plain": [
       "<tf.Tensor: shape=(), dtype=int32, numpy=4>"
      ]
     },
     "execution_count": 92,
     "metadata": {},
     "output_type": "execute_result"
    }
   ],
   "source": [
    "j=tf.cast(tf.constant(4.9), dtype=tf.int32)\n",
    "j"
   ]
  },
  {
   "cell_type": "markdown",
   "id": "1331983c",
   "metadata": {},
   "source": [
    "### Ragged Tensor"
   ]
  },
  {
   "cell_type": "markdown",
   "id": "c6e7d6cf",
   "metadata": {},
   "source": [
    "A ragged tensor is a tensor haing one or more ragged dimensions. Ragged dimensions are dimensions that have slices having various lengths. There are variety of methods for the declaration of ragged arrays, the simplest way is declaring a constant ragged array.\n",
    "\n",
    "\n",
    "\n",
    "\n",
    "### Below example shows how to delcare a constant ragged array"
   ]
  },
  {
   "cell_type": "code",
   "execution_count": 93,
   "id": "397323e5",
   "metadata": {},
   "outputs": [
    {
     "name": "stdout",
     "output_type": "stream",
     "text": [
      "<tf.RaggedTensor [[9, 7, 4, 3], [], [11, 12, 8], [3], [7, 8]]>\n"
     ]
    }
   ],
   "source": [
    "ragged=tf.ragged.constant([[9,7,4,3],[],[11,12,8],[3],[7,8]])\n",
    "print(ragged)"
   ]
  },
  {
   "cell_type": "code",
   "execution_count": 94,
   "id": "370f037f",
   "metadata": {},
   "outputs": [
    {
     "name": "stdout",
     "output_type": "stream",
     "text": [
      "tf.Tensor([9 7 4 3], shape=(4,), dtype=int32)\n"
     ]
    }
   ],
   "source": [
    "print(ragged[0,:])"
   ]
  },
  {
   "cell_type": "code",
   "execution_count": 95,
   "id": "55e64c55",
   "metadata": {},
   "outputs": [
    {
     "name": "stdout",
     "output_type": "stream",
     "text": [
      "tf.Tensor([], shape=(0,), dtype=int32)\n"
     ]
    }
   ],
   "source": [
    "print(ragged[1,:])"
   ]
  },
  {
   "cell_type": "code",
   "execution_count": 96,
   "id": "f6ae016b",
   "metadata": {},
   "outputs": [
    {
     "name": "stdout",
     "output_type": "stream",
     "text": [
      "tf.Tensor([11 12  8], shape=(3,), dtype=int32)\n"
     ]
    }
   ],
   "source": [
    "print(ragged[2,:])"
   ]
  },
  {
   "cell_type": "code",
   "execution_count": 97,
   "id": "961d1bf3",
   "metadata": {},
   "outputs": [
    {
     "name": "stdout",
     "output_type": "stream",
     "text": [
      "tf.Tensor([3], shape=(1,), dtype=int32)\n"
     ]
    }
   ],
   "source": [
    "print(ragged[3,:])"
   ]
  },
  {
   "cell_type": "code",
   "execution_count": 99,
   "id": "2d388e34",
   "metadata": {},
   "outputs": [
    {
     "name": "stdout",
     "output_type": "stream",
     "text": [
      "tf.Tensor([7 8], shape=(2,), dtype=int32)\n"
     ]
    }
   ],
   "source": [
    "print(ragged[4,:])"
   ]
  },
  {
   "cell_type": "markdown",
   "id": "dbe26ae5",
   "metadata": {},
   "source": [
    "### Squared difference of tensor"
   ]
  },
  {
   "cell_type": "code",
   "execution_count": 100,
   "id": "30625cdd",
   "metadata": {},
   "outputs": [
    {
     "data": {
      "text/plain": [
       "<tf.Tensor: shape=(5,), dtype=int32, numpy=array([16,  9,  4, 49, 36])>"
      ]
     },
     "execution_count": 100,
     "metadata": {},
     "output_type": "execute_result"
    }
   ],
   "source": [
    "varx=[4,5,6,1,2]\n",
    "vary=8\n",
    "varz=tf.math.squared_difference(varx,vary)\n",
    "varz"
   ]
  },
  {
   "cell_type": "markdown",
   "id": "213b3349",
   "metadata": {},
   "source": [
    "### Calculate the Mean"
   ]
  },
  {
   "cell_type": "markdown",
   "id": "f72597d7",
   "metadata": {},
   "source": [
    "function available  tf.reduce_mean()"
   ]
  },
  {
   "cell_type": "code",
   "execution_count": null,
   "id": "2a778250",
   "metadata": {},
   "outputs": [],
   "source": [
    "#defining a constant\n",
    "numbers=tf.constant([[8.,9.]])"
   ]
  }
 ],
 "metadata": {
  "kernelspec": {
   "display_name": "Python 3 (ipykernel)",
   "language": "python",
   "name": "python3"
  },
  "language_info": {
   "codemirror_mode": {
    "name": "ipython",
    "version": 3
   },
   "file_extension": ".py",
   "mimetype": "text/x-python",
   "name": "python",
   "nbconvert_exporter": "python",
   "pygments_lexer": "ipython3",
   "version": "3.7.0"
  }
 },
 "nbformat": 4,
 "nbformat_minor": 5
}
