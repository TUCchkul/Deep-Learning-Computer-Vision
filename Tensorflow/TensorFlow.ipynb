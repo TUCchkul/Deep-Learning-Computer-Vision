{
 "cells": [
  {
   "cell_type": "markdown",
   "id": "d4e6da41",
   "metadata": {},
   "source": [
    "# What is TensorFlow?\n",
    "\n",
    "![](https://upload.wikimedia.org/wikipedia/commons/a/a4/TensorFlowLogo.png)\n",
    "\n",
    "\n",
    "TensorFlow is an open source software library released in 2015 by Google to make it easier for developers to design, build, and train deep learning models. TensorFlow originated as an internal library that Google developers used to build models in-house, and we expect additional functionality to be added to the open source version as they are tested and vetted in the internal flavor. Although TensorFlow is only one of several options available to developers, we choose to use it here because of its thoughtful design and ease of use. We’ll briefly compare TensorFlow to alternatives in the next section.\n",
    "\n",
    "At a high level, TensorFlow is a Python library that allows users to express arbitrary computation as a graph of data flows. Nodes in this graph represent mathematical operations, whereas edges represent data that is communicated from one node to another. Data in TensorFlow are represented as tensors, which are multidimensional arrays. Although this framework for thinking about computation is valuable in many different fields, TensorFlow is primarily used for deep learning in practice and research.\n"
   ]
  },
  {
   "cell_type": "markdown",
   "id": "150e2878",
   "metadata": {},
   "source": [
    "## Install\n",
    "As usual, we'll be using Conda to install TensorFlow. You might already have a TensorFlow environment, but check to make sure you have all the necessary packages.\n",
    "\n",
    "### OS X or Linux\n",
    "Run the following commands to setup your environment:\n",
    "\n",
    "    conda create -n tensorflow python=3.5\n",
    "    source activate tensorflow\n",
    "    conda install pandas matplotlib jupyter notebook scipy scikit-learn\n",
    "    pip install tensorflow\n",
    "\n",
    "### Windows\n",
    "And installing on Windows. In your console or Anaconda shell,\n",
    "\n",
    "    conda create -n tensorflow python=3.5\n",
    "    activate tensorflow\n",
    "    conda install pandas matplotlib jupyter notebook scipy scikit-learn\n",
    "    pip install tensorflow\n",
    "\n",
    "### Hello, world!\n",
    "Try running the following code in your Python console to make sure you have TensorFlow properly installed. The console will print \"Hello, world!\" if TensorFlow is installed. Don’t worry about understanding what it does. You’ll learn about it in the next section."
   ]
  },
  {
   "cell_type": "code",
   "execution_count": 1,
   "id": "4a529e2b",
   "metadata": {},
   "outputs": [],
   "source": [
    "import tensorflow as tf"
   ]
  },
  {
   "cell_type": "code",
   "execution_count": 4,
   "id": "cd89c534",
   "metadata": {},
   "outputs": [
    {
     "data": {
      "text/plain": [
       "<tf.Tensor: shape=(), dtype=string, numpy=b'Hello World'>"
      ]
     },
     "execution_count": 4,
     "metadata": {},
     "output_type": "execute_result"
    }
   ],
   "source": [
    "hello_constant=tf.constant('Hello World')\n",
    "hello_constant"
   ]
  },
  {
   "cell_type": "code",
   "execution_count": 7,
   "id": "f9f1e2f8",
   "metadata": {},
   "outputs": [
    {
     "name": "stdout",
     "output_type": "stream",
     "text": [
      "Tensorflow version:2.7.0\n",
      "Keras version: 2.7.0\n"
     ]
    }
   ],
   "source": [
    "# Version Check\n",
    "import tensorflow as tf\n",
    "#create tensorflow object called tensor\n",
    "print(\"Tensorflow version:{}\".format(tf.__version__))\n",
    "print(\"Keras version: {}\".format(tf.keras.__version__))"
   ]
  },
  {
   "cell_type": "markdown",
   "id": "9abdda9d",
   "metadata": {},
   "source": [
    "### GPU/CPU Check"
   ]
  },
  {
   "cell_type": "code",
   "execution_count": 8,
   "id": "d763a79d",
   "metadata": {},
   "outputs": [
    {
     "name": "stdout",
     "output_type": "stream",
     "text": [
      "WARNING:tensorflow:From C:\\Users\\kulki\\AppData\\Local\\Temp\\ipykernel_16172\\3700108689.py:2: is_gpu_available (from tensorflow.python.framework.test_util) is deprecated and will be removed in a future version.\n",
      "Instructions for updating:\n",
      "Use `tf.config.list_physical_devices('GPU')` instead.\n",
      "CPU\n"
     ]
    }
   ],
   "source": [
    "variable=tf.Variable([3,3])\n",
    "if tf.test.is_gpu_available():\n",
    "    print('GPU')\n",
    "else:\n",
    "    print('CPU')"
   ]
  },
  {
   "cell_type": "markdown",
   "id": "09418b5d",
   "metadata": {},
   "source": [
    "### Tensor Constant"
   ]
  },
  {
   "cell_type": "code",
   "execution_count": 11,
   "id": "896c8d7f",
   "metadata": {},
   "outputs": [
    {
     "data": {
      "text/plain": [
       "tensorflow.python.framework.ops.EagerTensor"
      ]
     },
     "execution_count": 11,
     "metadata": {},
     "output_type": "execute_result"
    }
   ],
   "source": [
    "tensor=tf.constant(42)\n",
    "tensor\n",
    "type(tensor)"
   ]
  },
  {
   "cell_type": "code",
   "execution_count": 10,
   "id": "05da5f55",
   "metadata": {},
   "outputs": [
    {
     "data": {
      "text/plain": [
       "42"
      ]
     },
     "execution_count": 10,
     "metadata": {},
     "output_type": "execute_result"
    }
   ],
   "source": [
    "tensor.numpy()"
   ]
  },
  {
   "cell_type": "code",
   "execution_count": 12,
   "id": "8ff864f4",
   "metadata": {},
   "outputs": [
    {
     "data": {
      "text/plain": [
       "tf.int32"
      ]
     },
     "execution_count": 12,
     "metadata": {},
     "output_type": "execute_result"
    }
   ],
   "source": [
    "tensor.dtype"
   ]
  },
  {
   "cell_type": "code",
   "execution_count": 13,
   "id": "0f5a0cde",
   "metadata": {},
   "outputs": [
    {
     "data": {
      "text/plain": [
       "<tf.Tensor: shape=(), dtype=int64, numpy=1>"
      ]
     },
     "execution_count": 13,
     "metadata": {},
     "output_type": "execute_result"
    }
   ],
   "source": [
    "tensor1=tf.constant(1, dtype=tf.int64)\n",
    "tensor1"
   ]
  },
  {
   "cell_type": "code",
   "execution_count": 15,
   "id": "ea405876",
   "metadata": {},
   "outputs": [
    {
     "name": "stdout",
     "output_type": "stream",
     "text": [
      "tf.Tensor(\n",
      "[[4 2]\n",
      " [9 5]], shape=(2, 2), dtype=int32)\n"
     ]
    }
   ],
   "source": [
    "tensor_x=tf.constant([[4,2],[9,5]])\n",
    "print(tensor_x)"
   ]
  },
  {
   "cell_type": "code",
   "execution_count": 16,
   "id": "b9982180",
   "metadata": {},
   "outputs": [
    {
     "data": {
      "text/plain": [
       "array([[4, 2],\n",
       "       [9, 5]])"
      ]
     },
     "execution_count": 16,
     "metadata": {},
     "output_type": "execute_result"
    }
   ],
   "source": [
    "tensor_x.numpy()"
   ]
  },
  {
   "cell_type": "code",
   "execution_count": 17,
   "id": "9051e784",
   "metadata": {},
   "outputs": [
    {
     "name": "stdout",
     "output_type": "stream",
     "text": [
      "shape:\n",
      "(2, 2)\n"
     ]
    }
   ],
   "source": [
    "print(f\"shape:\\n{tensor_x.shape}\")"
   ]
  },
  {
   "cell_type": "code",
   "execution_count": 18,
   "id": "b10ee57c",
   "metadata": {},
   "outputs": [
    {
     "name": "stdout",
     "output_type": "stream",
     "text": [
      "Data-Type: <dtype: 'int32'>\n"
     ]
    }
   ],
   "source": [
    "print(\"Data-Type:\",tensor_x.dtype)"
   ]
  },
  {
   "cell_type": "markdown",
   "id": "29466ef4",
   "metadata": {},
   "source": [
    "### Commonly used method is to generate constant tf.ones and tf.zeros like of numpy np.ones and np.zeros"
   ]
  },
  {
   "cell_type": "code",
   "execution_count": null,
   "id": "aeb258ac",
   "metadata": {},
   "outputs": [],
   "source": []
  }
 ],
 "metadata": {
  "kernelspec": {
   "display_name": "Python 3 (ipykernel)",
   "language": "python",
   "name": "python3"
  },
  "language_info": {
   "codemirror_mode": {
    "name": "ipython",
    "version": 3
   },
   "file_extension": ".py",
   "mimetype": "text/x-python",
   "name": "python",
   "nbconvert_exporter": "python",
   "pygments_lexer": "ipython3",
   "version": "3.7.0"
  }
 },
 "nbformat": 4,
 "nbformat_minor": 5
}
